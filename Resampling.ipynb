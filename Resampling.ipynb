{
 "cells": [
  {
   "cell_type": "code",
   "execution_count": 1,
   "id": "e178cdb6",
   "metadata": {},
   "outputs": [],
   "source": [
    "import numpy as np\n",
    "import matplotlib.pyplot as plt\n",
    "from scipy.stats import beta, anderson\n",
    "import seaborn as sns\n",
    "import statsmodels.api as sm\n",
    "import pandas as pd\n",
    "plt.rcParams[\"figure.dpi\"] = 150"
   ]
  },
  {
   "cell_type": "code",
   "execution_count": null,
   "id": "8289075e",
   "metadata": {},
   "outputs": [],
   "source": [
    "a1, b1 = 3, 50\n",
    "a2, b2 = 3, 40\n",
    "lower = min(beta.ppf(0.001, a1, b1), beta.ppf(0.001, a2, b2))\n",
    "upper = max(beta.ppf(0.999, a1, b1), beta.ppf(0.999, a2, b2))\n",
    "x = np.linspace(lower, upper, 200)"
   ]
  },
  {
   "cell_type": "code",
   "execution_count": null,
   "id": "b0729723",
   "metadata": {},
   "outputs": [],
   "source": [
    "plt.plot(x, beta.pdf(x, a1, b1));\n",
    "plt.plot(x, beta.pdf(x, a2, b2));"
   ]
  },
  {
   "cell_type": "code",
   "execution_count": null,
   "id": "254de479",
   "metadata": {},
   "outputs": [],
   "source": [
    "control_cog = np.round(beta.rvs(a1, b1, size = 70, scale = 40), 1)\n",
    "treat_cog = np.round(beta.rvs(a2, b2, size = 50, scale = 40), 1)"
   ]
  },
  {
   "cell_type": "code",
   "execution_count": null,
   "id": "1079aa47",
   "metadata": {},
   "outputs": [],
   "source": [
    "plt.hist(control_cog, alpha = 0.5, bins = np.arange(0, 7, 0.25), edgecolor=\"white\");\n",
    "plt.hist(treat_cog, alpha = 0.5, bins = np.arange(0, 7, 0.25), edgecolor=\"white\");"
   ]
  },
  {
   "cell_type": "code",
   "execution_count": null,
   "id": "fcdf15a0",
   "metadata": {},
   "outputs": [],
   "source": [
    "np.mean(control_cog), np.mean(treat_cog)"
   ]
  },
  {
   "cell_type": "code",
   "execution_count": null,
   "id": "61b898d1",
   "metadata": {},
   "outputs": [],
   "source": []
  },
  {
   "cell_type": "code",
   "execution_count": null,
   "id": "1f959289",
   "metadata": {},
   "outputs": [],
   "source": []
  },
  {
   "cell_type": "markdown",
   "id": "b65401d5",
   "metadata": {},
   "source": [
    "# Population"
   ]
  },
  {
   "cell_type": "code",
   "execution_count": 2,
   "id": "0ceaf3b5",
   "metadata": {},
   "outputs": [
    {
     "name": "stdout",
     "output_type": "stream",
     "text": [
      "<class 'pandas.core.frame.DataFrame'>\n",
      "RangeIndex: 24012 entries, 0 to 24011\n",
      "Data columns (total 31 columns):\n",
      " #   Column                       Non-Null Count  Dtype  \n",
      "---  ------                       --------------  -----  \n",
      " 0   id                           24012 non-null  int64  \n",
      " 1   title                        24012 non-null  object \n",
      " 2   media_type                   24012 non-null  object \n",
      " 3   mean                         14153 non-null  float64\n",
      " 4   num_scoring_users            24012 non-null  int64  \n",
      " 5   status                       24012 non-null  object \n",
      " 6   num_episodes                 24012 non-null  int64  \n",
      " 7   start_date                   21160 non-null  object \n",
      " 8   end_date                     19719 non-null  object \n",
      " 9   source                       20238 non-null  object \n",
      " 10  num_list_users               24012 non-null  int64  \n",
      " 11  popularity                   20538 non-null  float64\n",
      " 12  num_favorites                24012 non-null  int64  \n",
      " 13  rank                         18643 non-null  float64\n",
      " 14  average_episode_duration     23094 non-null  object \n",
      " 15  rating                       22996 non-null  object \n",
      " 16  start_season_year            17553 non-null  float64\n",
      " 17  start_season_season          17553 non-null  object \n",
      " 18  broadcast_day_of_the_week    3046 non-null   object \n",
      " 19  broadcast_start_time         2907 non-null   object \n",
      " 20  genres                       24012 non-null  object \n",
      " 21  studios                      24012 non-null  object \n",
      " 22  synopsis                     20751 non-null  object \n",
      " 23  nsfw                         24012 non-null  object \n",
      " 24  created_at                   24012 non-null  object \n",
      " 25  updated_at                   24012 non-null  object \n",
      " 26  main_picture_medium          21180 non-null  object \n",
      " 27  main_picture_large           21180 non-null  object \n",
      " 28  alternative_titles_en        8924 non-null   object \n",
      " 29  alternative_titles_ja        23779 non-null  object \n",
      " 30  alternative_titles_synonyms  24012 non-null  object \n",
      "dtypes: float64(4), int64(5), object(22)\n",
      "memory usage: 5.7+ MB\n"
     ]
    }
   ],
   "source": [
    "anime = pd.read_csv(\"anime.csv\")\n",
    "anime.info()"
   ]
  },
  {
   "cell_type": "code",
   "execution_count": 87,
   "id": "d369d22d",
   "metadata": {},
   "outputs": [
    {
     "data": {
      "image/png": "[encoded data removed]",
      "text/plain": [
       "<Figure size 900x600 with 1 Axes>"
      ]
     },
     "metadata": {
      "needs_background": "light"
     },
     "output_type": "display_data"
    }
   ],
   "source": [
    "anime_tv_movie = anime.loc[anime.media_type.isin([\"tv\", \"movie\"]), :]\n",
    "ax = sns.boxplot(x=\"media_type\", y=\"mean\", data=anime_tv_movie, notch=True)"
   ]
  },
  {
   "cell_type": "code",
   "execution_count": 88,
   "id": "ab131918",
   "metadata": {},
   "outputs": [
    {
     "data": {
      "text/plain": [
       "tv       8047\n",
       "movie    4086\n",
       "Name: media_type, dtype: int64"
      ]
     },
     "execution_count": 88,
     "metadata": {},
     "output_type": "execute_result"
    }
   ],
   "source": [
    "counts = anime_tv_movie.media_type.value_counts()\n",
    "counts"
   ]
  },
  {
   "cell_type": "code",
   "execution_count": 89,
   "id": "b35cf6e2",
   "metadata": {},
   "outputs": [],
   "source": [
    "tv_movie_diff_mean = np.mean(anime_tv_movie.loc[anime_tv_movie.media_type == \"tv\", \"mean\"]) \\\n",
    "    - np.mean(anime_tv_movie.loc[anime_tv_movie.media_type == \"movie\", \"mean\"])"
   ]
  },
  {
   "cell_type": "markdown",
   "id": "68dfbe9d",
   "metadata": {},
   "source": [
    "Population parameter"
   ]
  },
  {
   "cell_type": "code",
   "execution_count": 90,
   "id": "4bfe846a",
   "metadata": {},
   "outputs": [
    {
     "data": {
      "text/plain": [
       "0.43272950295727686"
      ]
     },
     "execution_count": 90,
     "metadata": {},
     "output_type": "execute_result"
    }
   ],
   "source": [
    "tv_movie_diff_mean"
   ]
  },
  {
   "cell_type": "code",
   "execution_count": 93,
   "id": "1da6df72",
   "metadata": {},
   "outputs": [
    {
     "data": {
      "text/plain": [
       "media_type\n",
       "movie    1.063442\n",
       "tv       0.795004\n",
       "Name: mean, dtype: float64"
      ]
     },
     "execution_count": 93,
     "metadata": {},
     "output_type": "execute_result"
    }
   ],
   "source": [
    "tv_movie_stdevs = anime_tv_movie.groupby(\"media_type\")[\"mean\"].apply(np.std)\n",
    "tv_movie_stdevs"
   ]
  },
  {
   "cell_type": "markdown",
   "id": "0d5d645d",
   "metadata": {},
   "source": [
    "# Sampling distribution\n",
    "## Samples of size 200"
   ]
  },
  {
   "cell_type": "code",
   "execution_count": 97,
   "id": "b51e7dd2",
   "metadata": {},
   "outputs": [],
   "source": [
    "def create_sampling_dist(population, score_column, group_column, group_labels, group_sizes, num_resamples):\n",
    "    sampling_dist_diffs = []\n",
    "    sample_size = group_sizes[0] + group_sizes[1]\n",
    "    first_population_group = population.loc[population[group_column] == group_labels[0], score_column]\n",
    "    second_population_group = population.loc[population[group_column] == group_labels[1], score_column]\n",
    "    for i in range(num_resamples):\n",
    "        first_group_sample = first_population_group.sample(group_sizes[0], replace=False)\n",
    "        second_group_sample = second_population_group.sample(group_sizes[1], replace=False)\n",
    "        first_group_sample_mean = first_group_sample.mean()\n",
    "        second_group_sample_mean = second_group_sample.mean()\n",
    "        this_diff = first_group_sample_mean - second_group_sample_mean\n",
    "        sampling_dist_diffs.append([i + 1, f\"{}\", first_group_sample_mean, second_group_sample_mean, this_diff])\n",
    "    return pd.DataFrame(sampling_dist_diffs, \\\n",
    "        columns=[\"resample\", \"sample_size\", \"first_group_mean\", \"second_group_mean\", \\\n",
    "                 f'diff_mean_{score_column}_{group_labels[0]}_{group_labels[1]}'])"
   ]
  },
  {
   "cell_type": "code",
   "execution_count": 98,
   "id": "b5801857",
   "metadata": {},
   "outputs": [],
   "source": [
    "sampling_dist_diffs = create_sampling_dist(anime_tv_movie, \"mean\", \"media_type\", [\"tv\", \"movie\"], [200, 200], 20000)"
   ]
  },
  {
   "cell_type": "code",
   "execution_count": 99,
   "id": "9e77b7c4",
   "metadata": {},
   "outputs": [
    {
     "data": {
      "text/html": [
       "<div>\n",
       "<style scoped>\n",
       "    .dataframe tbody tr th:only-of-type {\n",
       "        vertical-align: middle;\n",
       "    }\n",
       "\n",
       "    .dataframe tbody tr th {\n",
       "        vertical-align: top;\n",
       "    }\n",
       "\n",
       "    .dataframe thead th {\n",
       "        text-align: right;\n",
       "    }\n",
       "</style>\n",
       "<table border=\"1\" class=\"dataframe\">\n",
       "  <thead>\n",
       "    <tr style=\"text-align: right;\">\n",
       "      <th></th>\n",
       "      <th>resample</th>\n",
       "      <th>sample_size</th>\n",
       "      <th>first_mean</th>\n",
       "      <th>second_mean</th>\n",
       "      <th>diff_mean_mean_tv_movie</th>\n",
       "    </tr>\n",
       "  </thead>\n",
       "  <tbody>\n",
       "    <tr>\n",
       "      <th>0</th>\n",
       "      <td>1</td>\n",
       "      <td>400</td>\n",
       "      <td>6.963333</td>\n",
       "      <td>6.721212</td>\n",
       "      <td>0.242121</td>\n",
       "    </tr>\n",
       "    <tr>\n",
       "      <th>1</th>\n",
       "      <td>2</td>\n",
       "      <td>400</td>\n",
       "      <td>6.850965</td>\n",
       "      <td>6.284911</td>\n",
       "      <td>0.566054</td>\n",
       "    </tr>\n",
       "    <tr>\n",
       "      <th>2</th>\n",
       "      <td>3</td>\n",
       "      <td>400</td>\n",
       "      <td>6.935000</td>\n",
       "      <td>6.244286</td>\n",
       "      <td>0.690714</td>\n",
       "    </tr>\n",
       "    <tr>\n",
       "      <th>3</th>\n",
       "      <td>4</td>\n",
       "      <td>400</td>\n",
       "      <td>6.899515</td>\n",
       "      <td>6.396636</td>\n",
       "      <td>0.502879</td>\n",
       "    </tr>\n",
       "    <tr>\n",
       "      <th>4</th>\n",
       "      <td>5</td>\n",
       "      <td>400</td>\n",
       "      <td>6.957500</td>\n",
       "      <td>6.370377</td>\n",
       "      <td>0.587123</td>\n",
       "    </tr>\n",
       "    <tr>\n",
       "      <th>...</th>\n",
       "      <td>...</td>\n",
       "      <td>...</td>\n",
       "      <td>...</td>\n",
       "      <td>...</td>\n",
       "      <td>...</td>\n",
       "    </tr>\n",
       "    <tr>\n",
       "      <th>19995</th>\n",
       "      <td>19996</td>\n",
       "      <td>400</td>\n",
       "      <td>6.819709</td>\n",
       "      <td>6.419391</td>\n",
       "      <td>0.400317</td>\n",
       "    </tr>\n",
       "    <tr>\n",
       "      <th>19996</th>\n",
       "      <td>19997</td>\n",
       "      <td>400</td>\n",
       "      <td>6.793208</td>\n",
       "      <td>6.310973</td>\n",
       "      <td>0.482234</td>\n",
       "    </tr>\n",
       "    <tr>\n",
       "      <th>19997</th>\n",
       "      <td>19998</td>\n",
       "      <td>400</td>\n",
       "      <td>6.852178</td>\n",
       "      <td>6.530261</td>\n",
       "      <td>0.321917</td>\n",
       "    </tr>\n",
       "    <tr>\n",
       "      <th>19998</th>\n",
       "      <td>19999</td>\n",
       "      <td>400</td>\n",
       "      <td>6.857905</td>\n",
       "      <td>6.462895</td>\n",
       "      <td>0.395010</td>\n",
       "    </tr>\n",
       "    <tr>\n",
       "      <th>19999</th>\n",
       "      <td>20000</td>\n",
       "      <td>400</td>\n",
       "      <td>6.872632</td>\n",
       "      <td>6.405487</td>\n",
       "      <td>0.467145</td>\n",
       "    </tr>\n",
       "  </tbody>\n",
       "</table>\n",
       "<p>20000 rows × 5 columns</p>\n",
       "</div>"
      ],
      "text/plain": [
       "       resample  sample_size  first_mean  second_mean  diff_mean_mean_tv_movie\n",
       "0             1          400    6.963333     6.721212                 0.242121\n",
       "1             2          400    6.850965     6.284911                 0.566054\n",
       "2             3          400    6.935000     6.244286                 0.690714\n",
       "3             4          400    6.899515     6.396636                 0.502879\n",
       "4             5          400    6.957500     6.370377                 0.587123\n",
       "...         ...          ...         ...          ...                      ...\n",
       "19995     19996          400    6.819709     6.419391                 0.400317\n",
       "19996     19997          400    6.793208     6.310973                 0.482234\n",
       "19997     19998          400    6.852178     6.530261                 0.321917\n",
       "19998     19999          400    6.857905     6.462895                 0.395010\n",
       "19999     20000          400    6.872632     6.405487                 0.467145\n",
       "\n",
       "[20000 rows x 5 columns]"
      ]
     },
     "execution_count": 99,
     "metadata": {},
     "output_type": "execute_result"
    }
   ],
   "source": [
    "sampling_dist_diffs"
   ]
  },
  {
   "cell_type": "code",
   "execution_count": null,
   "id": "0a16624e",
   "metadata": {},
   "outputs": [],
   "source": []
  },
  {
   "cell_type": "markdown",
   "id": "fa2382d3",
   "metadata": {},
   "source": [
    "Let's have a look at a single sample"
   ]
  },
  {
   "cell_type": "code",
   "execution_count": 43,
   "id": "d889501c",
   "metadata": {},
   "outputs": [
    {
     "data": {
      "image/png": "[encoded data removed]",
      "text/plain": [
       "<Figure size 900x600 with 1 Axes>"
      ]
     },
     "metadata": {
      "needs_background": "light"
     },
     "output_type": "display_data"
    }
   ],
   "source": [
    "single_sample = anime_tv_movie.sample(200, replace=False)\n",
    "ax = sns.boxplot(x=\"media_type\", y=\"mean\", data=single_sample, notch=True)"
   ]
  },
  {
   "cell_type": "code",
   "execution_count": 32,
   "id": "0fc32aa8",
   "metadata": {},
   "outputs": [
    {
     "data": {
      "text/plain": [
       "tv       127\n",
       "movie     73\n",
       "Name: media_type, dtype: int64"
      ]
     },
     "execution_count": 32,
     "metadata": {},
     "output_type": "execute_result"
    }
   ],
   "source": [
    "single_sample.media_type.value_counts()"
   ]
  },
  {
   "cell_type": "code",
   "execution_count": 83,
   "id": "a3de8127",
   "metadata": {
    "scrolled": false
   },
   "outputs": [
    {
     "data": {
      "image/png": "[encoded data removed]",
      "text/plain": [
       "<Figure size 900x600 with 1 Axes>"
      ]
     },
     "metadata": {
      "needs_background": "light"
     },
     "output_type": "display_data"
    }
   ],
   "source": [
    "ax = sns.histplot(sampling_dist_diffs.diff_mean_mean_tv_movie, bins=30, edgecolor=\"white\");\n",
    "plt.axvline(tv_movie_diff, 0, 1, color=\"red\");"
   ]
  },
  {
   "cell_type": "code",
   "execution_count": 84,
   "id": "87bcb0bc",
   "metadata": {
    "scrolled": false
   },
   "outputs": [
    {
     "data": {
      "image/png": "[encoded data removed]",
      "text/plain": [
       "<Figure size 900x600 with 1 Axes>"
      ]
     },
     "metadata": {
      "needs_background": "light"
     },
     "output_type": "display_data"
    }
   ],
   "source": [
    "sm.qqplot(sampling_dist_diffs.diff_mean_mean_tv_movie, line=\"s\");"
   ]
  },
  {
   "cell_type": "code",
   "execution_count": 94,
   "id": "96b43ffb",
   "metadata": {},
   "outputs": [
    {
     "data": {
      "text/plain": [
       "0.12480810441365792"
      ]
     },
     "execution_count": 94,
     "metadata": {},
     "output_type": "execute_result"
    }
   ],
   "source": [
    "np.std(sampling_dist_diffs.diff_mean_mean_tv_movie)"
   ]
  },
  {
   "cell_type": "code",
   "execution_count": 104,
   "id": "35e17386",
   "metadata": {},
   "outputs": [
    {
     "data": {
      "text/plain": [
       "(0.07776742507034118, 0.056215243621060985)"
      ]
     },
     "execution_count": 104,
     "metadata": {},
     "output_type": "execute_result"
    }
   ],
   "source": [
    "np.std(sampling_dist_diffs.first_mean), tv_movie_stdevs[\"tv\"]/200**0.5"
   ]
  },
  {
   "cell_type": "code",
   "execution_count": 105,
   "id": "a6433cf2",
   "metadata": {},
   "outputs": [
    {
     "data": {
      "text/plain": [
       "(0.09802951469276736, 0.07519671012177168)"
      ]
     },
     "execution_count": 105,
     "metadata": {},
     "output_type": "execute_result"
    }
   ],
   "source": [
    "np.std(sampling_dist_diffs.second_mean), tv_movie_stdevs[\"movie\"]/200**0.5"
   ]
  },
  {
   "cell_type": "code",
   "execution_count": 96,
   "id": "e69f93b3",
   "metadata": {},
   "outputs": [
    {
     "data": {
      "text/plain": [
       "0.09388662752763567"
      ]
     },
     "execution_count": 96,
     "metadata": {},
     "output_type": "execute_result"
    }
   ],
   "source": [
    "standard_error = np.sqrt((tv_movie_stdevs[\"tv\"]**2)/200 + (tv_movie_stdevs[\"movie\"]**2)/200)\n",
    "standard_error"
   ]
  },
  {
   "cell_type": "code",
   "execution_count": 13,
   "id": "808769d3",
   "metadata": {},
   "outputs": [
    {
     "data": {
      "text/plain": [
       "array([0.04731524, 0.82068701])"
      ]
     },
     "execution_count": 13,
     "metadata": {},
     "output_type": "execute_result"
    }
   ],
   "source": [
    "np.quantile(sampling_dist_diffs.diff_mean_mean_tv_movie, [0.025, 0.975]) "
   ]
  },
  {
   "cell_type": "markdown",
   "id": "094264d8",
   "metadata": {},
   "source": [
    "## Samples of size 500"
   ]
  },
  {
   "cell_type": "code",
   "execution_count": 14,
   "id": "ba8f910d",
   "metadata": {},
   "outputs": [],
   "source": [
    "sampling_dist_diffs_500 = create_sampling_dist(anime_tv_movie, \"mean\", \"media_type\", [\"tv\", \"movie\"], 500, 20000)"
   ]
  },
  {
   "cell_type": "code",
   "execution_count": 15,
   "id": "570ff69a",
   "metadata": {},
   "outputs": [],
   "source": [
    "sampling_dist_diffs = pd.concat([sampling_dist_diffs, sampling_dist_diffs_500], axis=0, ignore_index=True)"
   ]
  },
  {
   "cell_type": "code",
   "execution_count": 16,
   "id": "4933c92b",
   "metadata": {},
   "outputs": [
    {
     "data": {
      "text/html": [
       "<div>\n",
       "<style scoped>\n",
       "    .dataframe tbody tr th:only-of-type {\n",
       "        vertical-align: middle;\n",
       "    }\n",
       "\n",
       "    .dataframe tbody tr th {\n",
       "        vertical-align: top;\n",
       "    }\n",
       "\n",
       "    .dataframe thead th {\n",
       "        text-align: right;\n",
       "    }\n",
       "</style>\n",
       "<table border=\"1\" class=\"dataframe\">\n",
       "  <thead>\n",
       "    <tr style=\"text-align: right;\">\n",
       "      <th></th>\n",
       "      <th>resample</th>\n",
       "      <th>sample_size</th>\n",
       "      <th>diff_mean_mean_tv_movie</th>\n",
       "    </tr>\n",
       "  </thead>\n",
       "  <tbody>\n",
       "    <tr>\n",
       "      <th>0</th>\n",
       "      <td>1</td>\n",
       "      <td>200</td>\n",
       "      <td>0.356279</td>\n",
       "    </tr>\n",
       "    <tr>\n",
       "      <th>1</th>\n",
       "      <td>2</td>\n",
       "      <td>200</td>\n",
       "      <td>-0.025890</td>\n",
       "    </tr>\n",
       "    <tr>\n",
       "      <th>2</th>\n",
       "      <td>3</td>\n",
       "      <td>200</td>\n",
       "      <td>0.690830</td>\n",
       "    </tr>\n",
       "    <tr>\n",
       "      <th>3</th>\n",
       "      <td>4</td>\n",
       "      <td>200</td>\n",
       "      <td>0.585024</td>\n",
       "    </tr>\n",
       "    <tr>\n",
       "      <th>4</th>\n",
       "      <td>5</td>\n",
       "      <td>200</td>\n",
       "      <td>0.574683</td>\n",
       "    </tr>\n",
       "    <tr>\n",
       "      <th>...</th>\n",
       "      <td>...</td>\n",
       "      <td>...</td>\n",
       "      <td>...</td>\n",
       "    </tr>\n",
       "    <tr>\n",
       "      <th>39995</th>\n",
       "      <td>19996</td>\n",
       "      <td>500</td>\n",
       "      <td>0.380981</td>\n",
       "    </tr>\n",
       "    <tr>\n",
       "      <th>39996</th>\n",
       "      <td>19997</td>\n",
       "      <td>500</td>\n",
       "      <td>0.278925</td>\n",
       "    </tr>\n",
       "    <tr>\n",
       "      <th>39997</th>\n",
       "      <td>19998</td>\n",
       "      <td>500</td>\n",
       "      <td>0.414599</td>\n",
       "    </tr>\n",
       "    <tr>\n",
       "      <th>39998</th>\n",
       "      <td>19999</td>\n",
       "      <td>500</td>\n",
       "      <td>0.448322</td>\n",
       "    </tr>\n",
       "    <tr>\n",
       "      <th>39999</th>\n",
       "      <td>20000</td>\n",
       "      <td>500</td>\n",
       "      <td>0.528328</td>\n",
       "    </tr>\n",
       "  </tbody>\n",
       "</table>\n",
       "<p>40000 rows × 3 columns</p>\n",
       "</div>"
      ],
      "text/plain": [
       "       resample  sample_size  diff_mean_mean_tv_movie\n",
       "0             1          200                 0.356279\n",
       "1             2          200                -0.025890\n",
       "2             3          200                 0.690830\n",
       "3             4          200                 0.585024\n",
       "4             5          200                 0.574683\n",
       "...         ...          ...                      ...\n",
       "39995     19996          500                 0.380981\n",
       "39996     19997          500                 0.278925\n",
       "39997     19998          500                 0.414599\n",
       "39998     19999          500                 0.448322\n",
       "39999     20000          500                 0.528328\n",
       "\n",
       "[40000 rows x 3 columns]"
      ]
     },
     "execution_count": 16,
     "metadata": {},
     "output_type": "execute_result"
    }
   ],
   "source": [
    "sampling_dist_diffs"
   ]
  },
  {
   "cell_type": "code",
   "execution_count": 30,
   "id": "a70eccb6",
   "metadata": {},
   "outputs": [
    {
     "data": {
      "image/png": "[encoded data removed]",
      "text/plain": [
       "<Figure size 900x600 with 2 Axes>"
      ]
     },
     "metadata": {
      "needs_background": "light"
     },
     "output_type": "display_data"
    }
   ],
   "source": [
    "g = sns.FacetGrid(sampling_dist_diffs, row=\"sample_size\", height=2, aspect=3)\n",
    "g.map(sns.histplot, \"diff_mean_mean_tv_movie\", bins=30);\n",
    "g.map(plt.axvline, x=tv_movie_diff, ymin=0, ymax=1, color=\"red\");"
   ]
  },
  {
   "cell_type": "code",
   "execution_count": null,
   "id": "fbcec555",
   "metadata": {},
   "outputs": [],
   "source": [
    "sampling_dist_diffs \\\n",
    "    .groupby(\"sample_size\") \\\n",
    "    .diff_mean_mean_tv_movie \\\n",
    "    .apply(lambda x: np.quantile(x, [0.025, 0.975]))"
   ]
  },
  {
   "cell_type": "code",
   "execution_count": null,
   "id": "deca3343",
   "metadata": {},
   "outputs": [],
   "source": []
  }
 ],
 "metadata": {
  "kernelspec": {
   "display_name": "Python 3 (ipykernel)",
   "language": "python",
   "name": "python3"
  },
  "language_info": {
   "codemirror_mode": {
    "name": "ipython",
    "version": 3
   },
   "file_extension": ".py",
   "mimetype": "text/x-python",
   "name": "python",
   "nbconvert_exporter": "python",
   "pygments_lexer": "ipython3",
   "version": "3.8.9"
  }
 },
 "nbformat": 4,
 "nbformat_minor": 5
}
