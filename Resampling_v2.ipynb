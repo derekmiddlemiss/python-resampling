{
 "cells": [
  {
   "cell_type": "code",
   "execution_count": 1,
   "id": "e178cdb6",
   "metadata": {},
   "outputs": [],
   "source": [
    "import numpy as np\n",
    "import matplotlib.pyplot as plt\n",
    "import seaborn as sns\n",
    "from scipy.stats import norm\n",
    "import statsmodels.api as sm\n",
    "import pandas as pd\n",
    "plt.rcParams[\"figure.dpi\"] = 150"
   ]
  },
  {
   "cell_type": "markdown",
   "id": "94ee693d",
   "metadata": {},
   "source": [
    "# Population\n",
    "\n",
    "Population in this context refers to all the data it is possible to have that bears on a quantitative question. **We almost never have full population data in real problems**. We'll examine a data set related to anime media, treating this data set **as if it were the population**. "
   ]
  },
  {
   "cell_type": "code",
   "execution_count": 2,
   "id": "e3aca1b2",
   "metadata": {},
   "outputs": [
    {
     "name": "stdout",
     "output_type": "stream",
     "text": [
      "<class 'pandas.core.frame.DataFrame'>\n",
      "RangeIndex: 24012 entries, 0 to 24011\n",
      "Data columns (total 31 columns):\n",
      " #   Column                       Non-Null Count  Dtype  \n",
      "---  ------                       --------------  -----  \n",
      " 0   id                           24012 non-null  int64  \n",
      " 1   title                        24012 non-null  object \n",
      " 2   media_type                   24012 non-null  object \n",
      " 3   scoring                      14153 non-null  float64\n",
      " 4   num_scoring_users            24012 non-null  int64  \n",
      " 5   status                       24012 non-null  object \n",
      " 6   num_episodes                 24012 non-null  int64  \n",
      " 7   start_date                   21160 non-null  object \n",
      " 8   end_date                     19719 non-null  object \n",
      " 9   source                       20238 non-null  object \n",
      " 10  num_list_users               24012 non-null  int64  \n",
      " 11  popularity                   20538 non-null  float64\n",
      " 12  num_favorites                24012 non-null  int64  \n",
      " 13  rank                         18643 non-null  float64\n",
      " 14  average_episode_duration     23094 non-null  object \n",
      " 15  rating                       22996 non-null  object \n",
      " 16  start_season_year            17553 non-null  float64\n",
      " 17  start_season_season          17553 non-null  object \n",
      " 18  broadcast_day_of_the_week    3046 non-null   object \n",
      " 19  broadcast_start_time         2907 non-null   object \n",
      " 20  genres                       24012 non-null  object \n",
      " 21  studios                      24012 non-null  object \n",
      " 22  synopsis                     20751 non-null  object \n",
      " 23  nsfw                         24012 non-null  object \n",
      " 24  created_at                   24012 non-null  object \n",
      " 25  updated_at                   24012 non-null  object \n",
      " 26  main_picture_medium          21180 non-null  object \n",
      " 27  main_picture_large           21180 non-null  object \n",
      " 28  alternative_titles_en        8924 non-null   object \n",
      " 29  alternative_titles_ja        23779 non-null  object \n",
      " 30  alternative_titles_synonyms  24012 non-null  object \n",
      "dtypes: float64(4), int64(5), object(22)\n",
      "memory usage: 5.7+ MB\n"
     ]
    }
   ],
   "source": [
    "anime = pd.read_csv(\"anime.csv\")\n",
    "anime.info()"
   ]
  },
  {
   "cell_type": "code",
   "execution_count": 3,
   "id": "97cc77dc",
   "metadata": {},
   "outputs": [
    {
     "data": {
      "text/html": [
       "<div>\n",
       "<style scoped>\n",
       "    .dataframe tbody tr th:only-of-type {\n",
       "        vertical-align: middle;\n",
       "    }\n",
       "\n",
       "    .dataframe tbody tr th {\n",
       "        vertical-align: top;\n",
       "    }\n",
       "\n",
       "    .dataframe thead th {\n",
       "        text-align: right;\n",
       "    }\n",
       "</style>\n",
       "<table border=\"1\" class=\"dataframe\">\n",
       "  <thead>\n",
       "    <tr style=\"text-align: right;\">\n",
       "      <th></th>\n",
       "      <th>id</th>\n",
       "      <th>title</th>\n",
       "      <th>media_type</th>\n",
       "      <th>scoring</th>\n",
       "      <th>num_scoring_users</th>\n",
       "      <th>status</th>\n",
       "      <th>num_episodes</th>\n",
       "      <th>start_date</th>\n",
       "      <th>end_date</th>\n",
       "      <th>source</th>\n",
       "      <th>...</th>\n",
       "      <th>studios</th>\n",
       "      <th>synopsis</th>\n",
       "      <th>nsfw</th>\n",
       "      <th>created_at</th>\n",
       "      <th>updated_at</th>\n",
       "      <th>main_picture_medium</th>\n",
       "      <th>main_picture_large</th>\n",
       "      <th>alternative_titles_en</th>\n",
       "      <th>alternative_titles_ja</th>\n",
       "      <th>alternative_titles_synonyms</th>\n",
       "    </tr>\n",
       "  </thead>\n",
       "  <tbody>\n",
       "    <tr>\n",
       "      <th>0</th>\n",
       "      <td>5114</td>\n",
       "      <td>Fullmetal Alchemist: Brotherhood</td>\n",
       "      <td>tv</td>\n",
       "      <td>9.14</td>\n",
       "      <td>1846307</td>\n",
       "      <td>finished_airing</td>\n",
       "      <td>64</td>\n",
       "      <td>2009-04-05 00:00:00</td>\n",
       "      <td>2010-07-04 00:00:00</td>\n",
       "      <td>manga</td>\n",
       "      <td>...</td>\n",
       "      <td>['Bones']</td>\n",
       "      <td>After a horrific alchemy experiment goes wrong...</td>\n",
       "      <td>white</td>\n",
       "      <td>2008-08-21 03:35:22</td>\n",
       "      <td>2022-04-18 05:06:13</td>\n",
       "      <td>https://api-cdn.myanimelist.net/images/anime/1...</td>\n",
       "      <td>https://api-cdn.myanimelist.net/images/anime/1...</td>\n",
       "      <td>Fullmetal Alchemist: Brotherhood</td>\n",
       "      <td>鋼の錬金術師 FULLMETAL ALCHEMIST</td>\n",
       "      <td>['Hagane no Renkinjutsushi: Fullmetal Alchemis...</td>\n",
       "    </tr>\n",
       "    <tr>\n",
       "      <th>1</th>\n",
       "      <td>11061</td>\n",
       "      <td>Hunter x Hunter (2011)</td>\n",
       "      <td>tv</td>\n",
       "      <td>9.05</td>\n",
       "      <td>1488156</td>\n",
       "      <td>finished_airing</td>\n",
       "      <td>148</td>\n",
       "      <td>2011-10-02 00:00:00</td>\n",
       "      <td>2014-09-24 00:00:00</td>\n",
       "      <td>manga</td>\n",
       "      <td>...</td>\n",
       "      <td>['Madhouse', 'Studio Live']</td>\n",
       "      <td>Hunters devote themselves to accomplishing haz...</td>\n",
       "      <td>white</td>\n",
       "      <td>2011-07-27 08:41:39</td>\n",
       "      <td>2022-04-18 05:11:21</td>\n",
       "      <td>https://api-cdn.myanimelist.net/images/anime/1...</td>\n",
       "      <td>https://api-cdn.myanimelist.net/images/anime/1...</td>\n",
       "      <td>Hunter x Hunter</td>\n",
       "      <td>HUNTER×HUNTER（ハンター×ハンター）</td>\n",
       "      <td>['HxH (2011)']</td>\n",
       "    </tr>\n",
       "    <tr>\n",
       "      <th>2</th>\n",
       "      <td>9253</td>\n",
       "      <td>Steins;Gate</td>\n",
       "      <td>tv</td>\n",
       "      <td>9.08</td>\n",
       "      <td>1240087</td>\n",
       "      <td>finished_airing</td>\n",
       "      <td>24</td>\n",
       "      <td>2011-04-06 00:00:00</td>\n",
       "      <td>2011-09-14 00:00:00</td>\n",
       "      <td>visual_novel</td>\n",
       "      <td>...</td>\n",
       "      <td>['White Fox']</td>\n",
       "      <td>Eccentric scientist Rintarou Okabe has a never...</td>\n",
       "      <td>white</td>\n",
       "      <td>2010-07-26 09:23:40</td>\n",
       "      <td>2022-05-01 21:24:42</td>\n",
       "      <td>https://api-cdn.myanimelist.net/images/anime/5...</td>\n",
       "      <td>https://api-cdn.myanimelist.net/images/anime/5...</td>\n",
       "      <td>Steins;Gate</td>\n",
       "      <td>STEINS;GATE</td>\n",
       "      <td>[]</td>\n",
       "    </tr>\n",
       "    <tr>\n",
       "      <th>3</th>\n",
       "      <td>21</td>\n",
       "      <td>One Piece</td>\n",
       "      <td>tv</td>\n",
       "      <td>8.65</td>\n",
       "      <td>1076776</td>\n",
       "      <td>currently_airing</td>\n",
       "      <td>0</td>\n",
       "      <td>1999-10-20 00:00:00</td>\n",
       "      <td>NaN</td>\n",
       "      <td>manga</td>\n",
       "      <td>...</td>\n",
       "      <td>['Toei Animation']</td>\n",
       "      <td>Gol D. Roger was known as the \"Pirate King,\" t...</td>\n",
       "      <td>white</td>\n",
       "      <td>2005-11-11 01:20:50</td>\n",
       "      <td>2022-04-18 05:12:08</td>\n",
       "      <td>https://api-cdn.myanimelist.net/images/anime/6...</td>\n",
       "      <td>https://api-cdn.myanimelist.net/images/anime/6...</td>\n",
       "      <td>One Piece</td>\n",
       "      <td>ONE PIECE</td>\n",
       "      <td>['OP']</td>\n",
       "    </tr>\n",
       "    <tr>\n",
       "      <th>4</th>\n",
       "      <td>1535</td>\n",
       "      <td>Death Note</td>\n",
       "      <td>tv</td>\n",
       "      <td>8.62</td>\n",
       "      <td>2426765</td>\n",
       "      <td>finished_airing</td>\n",
       "      <td>37</td>\n",
       "      <td>2006-10-04 00:00:00</td>\n",
       "      <td>2007-06-27 00:00:00</td>\n",
       "      <td>manga</td>\n",
       "      <td>...</td>\n",
       "      <td>['Madhouse']</td>\n",
       "      <td>Brutal murders, petty thefts, and senseless vi...</td>\n",
       "      <td>white</td>\n",
       "      <td>2006-10-04 03:39:19</td>\n",
       "      <td>2022-04-18 04:59:29</td>\n",
       "      <td>https://api-cdn.myanimelist.net/images/anime/9...</td>\n",
       "      <td>https://api-cdn.myanimelist.net/images/anime/9...</td>\n",
       "      <td>Death Note</td>\n",
       "      <td>デスノート</td>\n",
       "      <td>['DN']</td>\n",
       "    </tr>\n",
       "  </tbody>\n",
       "</table>\n",
       "<p>5 rows × 31 columns</p>\n",
       "</div>"
      ],
      "text/plain": [
       "      id                             title media_type  scoring  \\\n",
       "0   5114  Fullmetal Alchemist: Brotherhood         tv     9.14   \n",
       "1  11061            Hunter x Hunter (2011)         tv     9.05   \n",
       "2   9253                       Steins;Gate         tv     9.08   \n",
       "3     21                         One Piece         tv     8.65   \n",
       "4   1535                        Death Note         tv     8.62   \n",
       "\n",
       "   num_scoring_users            status  num_episodes           start_date  \\\n",
       "0            1846307   finished_airing            64  2009-04-05 00:00:00   \n",
       "1            1488156   finished_airing           148  2011-10-02 00:00:00   \n",
       "2            1240087   finished_airing            24  2011-04-06 00:00:00   \n",
       "3            1076776  currently_airing             0  1999-10-20 00:00:00   \n",
       "4            2426765   finished_airing            37  2006-10-04 00:00:00   \n",
       "\n",
       "              end_date        source  ...                      studios  \\\n",
       "0  2010-07-04 00:00:00         manga  ...                    ['Bones']   \n",
       "1  2014-09-24 00:00:00         manga  ...  ['Madhouse', 'Studio Live']   \n",
       "2  2011-09-14 00:00:00  visual_novel  ...                ['White Fox']   \n",
       "3                  NaN         manga  ...           ['Toei Animation']   \n",
       "4  2007-06-27 00:00:00         manga  ...                 ['Madhouse']   \n",
       "\n",
       "                                            synopsis   nsfw  \\\n",
       "0  After a horrific alchemy experiment goes wrong...  white   \n",
       "1  Hunters devote themselves to accomplishing haz...  white   \n",
       "2  Eccentric scientist Rintarou Okabe has a never...  white   \n",
       "3  Gol D. Roger was known as the \"Pirate King,\" t...  white   \n",
       "4  Brutal murders, petty thefts, and senseless vi...  white   \n",
       "\n",
       "            created_at           updated_at  \\\n",
       "0  2008-08-21 03:35:22  2022-04-18 05:06:13   \n",
       "1  2011-07-27 08:41:39  2022-04-18 05:11:21   \n",
       "2  2010-07-26 09:23:40  2022-05-01 21:24:42   \n",
       "3  2005-11-11 01:20:50  2022-04-18 05:12:08   \n",
       "4  2006-10-04 03:39:19  2022-04-18 04:59:29   \n",
       "\n",
       "                                 main_picture_medium  \\\n",
       "0  https://api-cdn.myanimelist.net/images/anime/1...   \n",
       "1  https://api-cdn.myanimelist.net/images/anime/1...   \n",
       "2  https://api-cdn.myanimelist.net/images/anime/5...   \n",
       "3  https://api-cdn.myanimelist.net/images/anime/6...   \n",
       "4  https://api-cdn.myanimelist.net/images/anime/9...   \n",
       "\n",
       "                                  main_picture_large  \\\n",
       "0  https://api-cdn.myanimelist.net/images/anime/1...   \n",
       "1  https://api-cdn.myanimelist.net/images/anime/1...   \n",
       "2  https://api-cdn.myanimelist.net/images/anime/5...   \n",
       "3  https://api-cdn.myanimelist.net/images/anime/6...   \n",
       "4  https://api-cdn.myanimelist.net/images/anime/9...   \n",
       "\n",
       "              alternative_titles_en       alternative_titles_ja  \\\n",
       "0  Fullmetal Alchemist: Brotherhood  鋼の錬金術師 FULLMETAL ALCHEMIST   \n",
       "1                   Hunter x Hunter    HUNTER×HUNTER（ハンター×ハンター）   \n",
       "2                       Steins;Gate                 STEINS;GATE   \n",
       "3                         One Piece                   ONE PIECE   \n",
       "4                        Death Note                       デスノート   \n",
       "\n",
       "                         alternative_titles_synonyms  \n",
       "0  ['Hagane no Renkinjutsushi: Fullmetal Alchemis...  \n",
       "1                                     ['HxH (2011)']  \n",
       "2                                                 []  \n",
       "3                                             ['OP']  \n",
       "4                                             ['DN']  \n",
       "\n",
       "[5 rows x 31 columns]"
      ]
     },
     "execution_count": 3,
     "metadata": {},
     "output_type": "execute_result"
    }
   ],
   "source": [
    "anime.head()"
   ]
  },
  {
   "cell_type": "markdown",
   "id": "459b2002",
   "metadata": {},
   "source": [
    "Our first problem related to TV and movie anime. \n",
    "\n",
    "> Does the mean `scoring` of these two groups of entries differ significantly? \n",
    "\n",
    "Let's see a notched boxplot of the distribution. Note here that the notch shows a reasonable range (95% confidence interval) for the median."
   ]
  },
  {
   "cell_type": "code",
   "execution_count": 4,
   "id": "675181f0",
   "metadata": {},
   "outputs": [
    {
     "data": {
      "image/png": "[encoded data removed]",
      "text/plain": [
       "<Figure size 900x600 with 1 Axes>"
      ]
     },
     "metadata": {
      "needs_background": "light"
     },
     "output_type": "display_data"
    }
   ],
   "source": [
    "anime_tv_movie = anime.loc[anime.media_type.isin([\"tv\", \"movie\"]), :].dropna(subset=[\"scoring\"])\n",
    "ax = sns.boxplot(x=\"media_type\", y=\"scoring\", data=anime_tv_movie, notch=True)"
   ]
  },
  {
   "cell_type": "markdown",
   "id": "70cbce10",
   "metadata": {},
   "source": [
    "Note that there's a reasonable number of outliers (points beyond the whiskers) in each group distribution. Let's see the number of entries in each group"
   ]
  },
  {
   "cell_type": "code",
   "execution_count": 5,
   "id": "4c304fe5",
   "metadata": {},
   "outputs": [
    {
     "data": {
      "text/plain": [
       "tv       4175\n",
       "movie    2282\n",
       "Name: media_type, dtype: int64"
      ]
     },
     "execution_count": 5,
     "metadata": {},
     "output_type": "execute_result"
    }
   ],
   "source": [
    "counts = anime_tv_movie.media_type.value_counts()\n",
    "counts"
   ]
  },
  {
   "cell_type": "markdown",
   "id": "2d656d7c",
   "metadata": {},
   "source": [
    "and histograms of both distributions "
   ]
  },
  {
   "cell_type": "code",
   "execution_count": 28,
   "id": "45a6a38d",
   "metadata": {},
   "outputs": [
    {
     "data": {
      "image/png": "[encoded data removed]",
      "text/plain": [
       "<Figure size 900x600 with 2 Axes>"
      ]
     },
     "metadata": {
      "needs_background": "light"
     },
     "output_type": "display_data"
    }
   ],
   "source": [
    "g = sns.FacetGrid(anime_tv_movie, row=\"media_type\", height=2, aspect=3)\n",
    "g.map(sns.histplot, \"scoring\", bins=30);"
   ]
  },
  {
   "cell_type": "markdown",
   "id": "3472dbf7",
   "metadata": {},
   "source": [
    "Note that neither distribution looks particularly normal, though they do seem unimodal.\n",
    "\n",
    "OK, let's calculate the **population parameter**. Again, generally speaking, in real applications, we don't have access to population parameters, because we don't have access to complete populations. Inferential statistics boils down to an attempt to infer population parameters from a more limited set of data known as a **sample**\n",
    "\n",
    "* Population $\\rightarrow$ population parameter(s) (what we would like to know).\n",
    "* Sample $\\rightarrow$ infer sample statistic(s) (approximations for a population parameter given the limited data of the sample). \n",
    "\n",
    "Samples are often randomly gathered, and a huge number of samples of a given size are possible from a given population. So the question arises (and this is the fundamental question in statistics)\n",
    "\n",
    "> 'How different might the sample statistic have been if a different sample were drawn? What is a reasonable range of sample statistics?' We call this the **sampling distribution** of a statistic.\n",
    "\n",
    "![](img/many_samples.png)"
   ]
  },
  {
   "cell_type": "code",
   "execution_count": 8,
   "id": "3ec0dec3",
   "metadata": {},
   "outputs": [
    {
     "data": {
      "text/plain": [
       "0.4327295029572653"
      ]
     },
     "execution_count": 8,
     "metadata": {},
     "output_type": "execute_result"
    }
   ],
   "source": [
    "tv_movie_diff_mean_scoring = np.mean(anime_tv_movie.loc[anime_tv_movie.media_type == \"tv\", \"scoring\"]) \\\n",
    "    - np.mean(anime_tv_movie.loc[anime_tv_movie.media_type == \"movie\", \"scoring\"])\n",
    "tv_movie_diff_mean_scoring"
   ]
  },
  {
   "cell_type": "markdown",
   "id": "e1bed490",
   "metadata": {},
   "source": [
    "Finally, let's have a look at a measure of variation / spread in `scoring` for the two groups. Standard deviation is useful here, as it's in the same units as the original data."
   ]
  },
  {
   "cell_type": "code",
   "execution_count": 54,
   "id": "ac5486c6",
   "metadata": {},
   "outputs": [
    {
     "data": {
      "text/plain": [
       "media_type\n",
       "movie    1.063442\n",
       "tv       0.795004\n",
       "Name: scoring, dtype: float64"
      ]
     },
     "execution_count": 54,
     "metadata": {},
     "output_type": "execute_result"
    }
   ],
   "source": [
    "# ddof 0 for population standard deviation\n",
    "tv_movie_stdevs = anime_tv_movie \\\n",
    "    .groupby(\"media_type\") \\\n",
    "    .scoring \\\n",
    "    .std(ddof=0)\n",
    "tv_movie_stdevs"
   ]
  },
  {
   "cell_type": "markdown",
   "id": "781aa4c8",
   "metadata": {},
   "source": [
    "# Sampling distribution\n",
    "\n",
    "## Samples of size 200 from each group\n",
    "\n",
    "Let's try to answer the question above sticking to the fiction that we have access to a complete population. We'll draw lots of random samples of a given size (200 animes each from `tv` and `movie`) and calculate our statistic of interest \n",
    "\n",
    "<center>\n",
    "$\\textrm{diff means} = \\overline{\\textrm{scoring}}_\\textrm{tv} - \\overline{\\textrm{scoring}}_\\textrm{movie}$\n",
    "</center>\n",
    "    \n",
    "for each sample, storing it as we go. Note that a **single sample** here consists of 200 `tv` entries **and** 200 `movie` entries.\n",
    "\n",
    "The final collection is the **sampling distribution** for the statistic of interest (in this case, the diff in means)"
   ]
  },
  {
   "cell_type": "code",
   "execution_count": 12,
   "id": "8d261743",
   "metadata": {},
   "outputs": [],
   "source": [
    "def create_diff_means_sampling_dist(population, score_column, group_column, group_labels, group_sizes, num_resamples):\n",
    "    # filter populations down to relevant groups first\n",
    "    first_population_group = population.loc[\n",
    "        population[group_column] == group_labels[0], score_column\n",
    "    ]\n",
    "    second_population_group = population.loc[\n",
    "        population[group_column] == group_labels[1], score_column\n",
    "    ]\n",
    "    \n",
    "    # precompute label string\n",
    "    samples_sizes_string = f\"({group_sizes[0]},{group_sizes[1]})\"\n",
    "\n",
    "    sampling_dist = []\n",
    "    for i in range(num_resamples):\n",
    "        first_group_sample = first_population_group.sample(group_sizes[0], replace=False)\n",
    "        second_group_sample = second_population_group.sample(group_sizes[1], replace=False)\n",
    "        \n",
    "        first_group_sample_mean = first_group_sample.mean()\n",
    "        second_group_sample_mean = second_group_sample.mean()\n",
    "        \n",
    "        this_diff = first_group_sample_mean - second_group_sample_mean\n",
    "        \n",
    "        sampling_dist.append([i + 1, samples_sizes_string, \\\n",
    "            first_group_sample_mean, second_group_sample_mean, this_diff])\n",
    "    \n",
    "    return pd.DataFrame(\n",
    "        data=sampling_dist, \n",
    "        columns=[\"resample\", \"sample_sizes\", f\"{group_labels[0]}_mean_{score_column}\", \\\n",
    "            f\"{group_labels[1]}_mean_{score_column}\", \"diff_means\"]\n",
    "    )"
   ]
  },
  {
   "cell_type": "code",
   "execution_count": 13,
   "id": "623a4207",
   "metadata": {},
   "outputs": [],
   "source": [
    "sampling_dist_diffs_200 = create_diff_means_sampling_dist(\n",
    "    population=anime_tv_movie, \n",
    "    score_column=\"scoring\", \n",
    "    group_column=\"media_type\", \n",
    "    group_labels=[\"tv\", \"movie\"], \n",
    "    group_sizes=[200, 200], \n",
    "    num_resamples=50000\n",
    ")"
   ]
  },
  {
   "cell_type": "code",
   "execution_count": 14,
   "id": "b28ade68",
   "metadata": {},
   "outputs": [
    {
     "data": {
      "text/html": [
       "<div>\n",
       "<style scoped>\n",
       "    .dataframe tbody tr th:only-of-type {\n",
       "        vertical-align: middle;\n",
       "    }\n",
       "\n",
       "    .dataframe tbody tr th {\n",
       "        vertical-align: top;\n",
       "    }\n",
       "\n",
       "    .dataframe thead th {\n",
       "        text-align: right;\n",
       "    }\n",
       "</style>\n",
       "<table border=\"1\" class=\"dataframe\">\n",
       "  <thead>\n",
       "    <tr style=\"text-align: right;\">\n",
       "      <th></th>\n",
       "      <th>resample</th>\n",
       "      <th>sample_sizes</th>\n",
       "      <th>tv_mean_scoring</th>\n",
       "      <th>movie_mean_scoring</th>\n",
       "      <th>diff_means</th>\n",
       "    </tr>\n",
       "  </thead>\n",
       "  <tbody>\n",
       "    <tr>\n",
       "      <th>0</th>\n",
       "      <td>1</td>\n",
       "      <td>(200,200)</td>\n",
       "      <td>6.93535</td>\n",
       "      <td>6.51330</td>\n",
       "      <td>0.42205</td>\n",
       "    </tr>\n",
       "    <tr>\n",
       "      <th>1</th>\n",
       "      <td>2</td>\n",
       "      <td>(200,200)</td>\n",
       "      <td>6.78250</td>\n",
       "      <td>6.48145</td>\n",
       "      <td>0.30105</td>\n",
       "    </tr>\n",
       "    <tr>\n",
       "      <th>2</th>\n",
       "      <td>3</td>\n",
       "      <td>(200,200)</td>\n",
       "      <td>6.87850</td>\n",
       "      <td>6.43725</td>\n",
       "      <td>0.44125</td>\n",
       "    </tr>\n",
       "    <tr>\n",
       "      <th>3</th>\n",
       "      <td>4</td>\n",
       "      <td>(200,200)</td>\n",
       "      <td>6.87585</td>\n",
       "      <td>6.46235</td>\n",
       "      <td>0.41350</td>\n",
       "    </tr>\n",
       "    <tr>\n",
       "      <th>4</th>\n",
       "      <td>5</td>\n",
       "      <td>(200,200)</td>\n",
       "      <td>6.74140</td>\n",
       "      <td>6.32920</td>\n",
       "      <td>0.41220</td>\n",
       "    </tr>\n",
       "    <tr>\n",
       "      <th>...</th>\n",
       "      <td>...</td>\n",
       "      <td>...</td>\n",
       "      <td>...</td>\n",
       "      <td>...</td>\n",
       "      <td>...</td>\n",
       "    </tr>\n",
       "    <tr>\n",
       "      <th>49995</th>\n",
       "      <td>49996</td>\n",
       "      <td>(200,200)</td>\n",
       "      <td>6.92380</td>\n",
       "      <td>6.39435</td>\n",
       "      <td>0.52945</td>\n",
       "    </tr>\n",
       "    <tr>\n",
       "      <th>49996</th>\n",
       "      <td>49997</td>\n",
       "      <td>(200,200)</td>\n",
       "      <td>6.92935</td>\n",
       "      <td>6.39815</td>\n",
       "      <td>0.53120</td>\n",
       "    </tr>\n",
       "    <tr>\n",
       "      <th>49997</th>\n",
       "      <td>49998</td>\n",
       "      <td>(200,200)</td>\n",
       "      <td>6.89400</td>\n",
       "      <td>6.27770</td>\n",
       "      <td>0.61630</td>\n",
       "    </tr>\n",
       "    <tr>\n",
       "      <th>49998</th>\n",
       "      <td>49999</td>\n",
       "      <td>(200,200)</td>\n",
       "      <td>6.87320</td>\n",
       "      <td>6.31170</td>\n",
       "      <td>0.56150</td>\n",
       "    </tr>\n",
       "    <tr>\n",
       "      <th>49999</th>\n",
       "      <td>50000</td>\n",
       "      <td>(200,200)</td>\n",
       "      <td>6.94290</td>\n",
       "      <td>6.48105</td>\n",
       "      <td>0.46185</td>\n",
       "    </tr>\n",
       "  </tbody>\n",
       "</table>\n",
       "<p>50000 rows × 5 columns</p>\n",
       "</div>"
      ],
      "text/plain": [
       "       resample sample_sizes  tv_mean_scoring  movie_mean_scoring  diff_means\n",
       "0             1    (200,200)          6.93535             6.51330     0.42205\n",
       "1             2    (200,200)          6.78250             6.48145     0.30105\n",
       "2             3    (200,200)          6.87850             6.43725     0.44125\n",
       "3             4    (200,200)          6.87585             6.46235     0.41350\n",
       "4             5    (200,200)          6.74140             6.32920     0.41220\n",
       "...         ...          ...              ...                 ...         ...\n",
       "49995     49996    (200,200)          6.92380             6.39435     0.52945\n",
       "49996     49997    (200,200)          6.92935             6.39815     0.53120\n",
       "49997     49998    (200,200)          6.89400             6.27770     0.61630\n",
       "49998     49999    (200,200)          6.87320             6.31170     0.56150\n",
       "49999     50000    (200,200)          6.94290             6.48105     0.46185\n",
       "\n",
       "[50000 rows x 5 columns]"
      ]
     },
     "execution_count": 14,
     "metadata": {},
     "output_type": "execute_result"
    }
   ],
   "source": [
    "sampling_dist_diffs_200"
   ]
  },
  {
   "cell_type": "markdown",
   "id": "9d981d78",
   "metadata": {},
   "source": [
    "Note that the number of resamples is a setting we should worry about in a more realistic process. In general, we'd want to increase the number of resamples until some measure of the sampling distribution we're interested in converges. We'll see one of those measures below. For now let's have a look at the distribution, also plotting the population parameter as a vertical line"
   ]
  },
  {
   "cell_type": "code",
   "execution_count": 15,
   "id": "a70d02d6",
   "metadata": {
    "scrolled": false
   },
   "outputs": [
    {
     "data": {
      "image/png": "[encoded data removed]",
      "text/plain": [
       "<Figure size 900x600 with 1 Axes>"
      ]
     },
     "metadata": {
      "needs_background": "light"
     },
     "output_type": "display_data"
    }
   ],
   "source": [
    "ax = sns.histplot(sampling_dist_diffs_200.diff_means, bins=30, edgecolor=\"white\");\n",
    "plt.axvline(tv_movie_diff_mean_scoring, 0, 1, color=\"red\");"
   ]
  },
  {
   "cell_type": "markdown",
   "id": "2f2728e6",
   "metadata": {},
   "source": [
    "Note how normal this looks, even though the `scoring` distributions for `tv` and `movie` from each which statistic was calculated didn't look particularly normal. This result is called the **central limit theorem** and has been central to inferential statistics from its earliest days.\n",
    "\n",
    "We can see a more compelling proof of the normality of the sampling distribution via a **quantile-quantile plot** - plot the quantiles of our distribution against the quantiles of the normal distribution. If the results fall on a line, the original distribution is normal."
   ]
  },
  {
   "cell_type": "code",
   "execution_count": 35,
   "id": "7d8824df",
   "metadata": {
    "scrolled": false
   },
   "outputs": [
    {
     "name": "stderr",
     "output_type": "stream",
     "text": [
      "/home/del/anaconda3/lib/python3.9/site-packages/statsmodels/graphics/gofplots.py:993: UserWarning: marker is redundantly defined by the 'marker' keyword argument and the fmt string \"bo\" (-> marker='o'). The keyword argument will take precedence.\n",
      "  ax.plot(x, y, fmt, **plot_style)\n"
     ]
    },
    {
     "data": {
      "image/png": "[encoded data removed]",
      "text/plain": [
       "<Figure size 900x600 with 1 Axes>"
      ]
     },
     "metadata": {
      "needs_background": "light"
     },
     "output_type": "display_data"
    }
   ],
   "source": [
    "sm.qqplot(sampling_dist_diffs_200.diff_means, dist=norm, line=\"s\", alpha=0.3);"
   ]
  },
  {
   "cell_type": "markdown",
   "id": "0d733589",
   "metadata": {},
   "source": [
    "Finally, here's a useful and important measure of the sampling distribution. Given we've taken lots of random samples of size 200 in each group from our population, what's a reasonable range across all samples of our statistic \n",
    "\n",
    "<center>\n",
    "$\\textrm{diff means} = \\overline{\\textrm{scoring}}_\\textrm{tv} - \\overline{\\textrm{scoring}}_\\textrm{movie}$\n",
    "</center>\n",
    "    \n",
    "Let's calculate the central 95% of the distribution (i.e. calculate the 2.5% and 97.5% quantiles). What we're saying here is that we expect 95% of our random samples to generate a sample statistic within this interval."
   ]
  },
  {
   "cell_type": "code",
   "execution_count": 39,
   "id": "4120366e",
   "metadata": {},
   "outputs": [
    {
     "data": {
      "text/plain": [
       "array([0.2562 , 0.61185])"
      ]
     },
     "execution_count": 39,
     "metadata": {},
     "output_type": "execute_result"
    }
   ],
   "source": [
    "interval = np.quantile(sampling_dist_diffs_200.diff_means, [0.025, 0.975])\n",
    "interval"
   ]
  },
  {
   "cell_type": "markdown",
   "id": "48c570a7",
   "metadata": {},
   "source": [
    "And, just to remind ourselves, our population parameter is"
   ]
  },
  {
   "cell_type": "code",
   "execution_count": 37,
   "id": "16762338",
   "metadata": {},
   "outputs": [
    {
     "data": {
      "text/plain": [
       "0.4327295029572653"
      ]
     },
     "execution_count": 37,
     "metadata": {},
     "output_type": "execute_result"
    }
   ],
   "source": [
    "tv_movie_diff_mean_scoring"
   ]
  },
  {
   "cell_type": "code",
   "execution_count": 40,
   "id": "6a579170",
   "metadata": {},
   "outputs": [
    {
     "data": {
      "text/plain": [
       "array([-0.1765295,  0.1791205])"
      ]
     },
     "execution_count": 40,
     "metadata": {},
     "output_type": "execute_result"
    }
   ],
   "source": [
    "interval - tv_movie_diff_mean_scoring"
   ]
  },
  {
   "cell_type": "markdown",
   "id": "1db24927",
   "metadata": {},
   "source": [
    "So the interval is approximately symmetric around the population parameter"
   ]
  },
  {
   "cell_type": "markdown",
   "id": "331d3afc",
   "metadata": {},
   "source": [
    "## Samples of size 1000 from each group\n",
    "\n",
    "What happens if we increase the sample size from each group?"
   ]
  },
  {
   "cell_type": "code",
   "execution_count": 41,
   "id": "a26664a9",
   "metadata": {},
   "outputs": [],
   "source": [
    "sampling_dist_diffs_1000 = create_diff_means_sampling_dist(\n",
    "    population=anime_tv_movie, \n",
    "    score_column=\"scoring\", \n",
    "    group_column=\"media_type\", \n",
    "    group_labels=[\"tv\", \"movie\"], \n",
    "    group_sizes=[1000, 1000], \n",
    "    num_resamples=50000\n",
    ")"
   ]
  },
  {
   "cell_type": "markdown",
   "id": "987d564e",
   "metadata": {},
   "source": [
    "Let's deal with the data in tidy form: we'll concatenate it on the bottom of the sample size 200 dataframe from above, differentiating rows with the `sample_sizes` column "
   ]
  },
  {
   "cell_type": "code",
   "execution_count": 44,
   "id": "f681a340",
   "metadata": {},
   "outputs": [],
   "source": [
    "sampling_dist_diffs = pd.concat([sampling_dist_diffs_200, sampling_dist_diffs_1000], axis=0, ignore_index=True)"
   ]
  },
  {
   "cell_type": "code",
   "execution_count": 45,
   "id": "a42b9315",
   "metadata": {},
   "outputs": [
    {
     "data": {
      "text/html": [
       "<div>\n",
       "<style scoped>\n",
       "    .dataframe tbody tr th:only-of-type {\n",
       "        vertical-align: middle;\n",
       "    }\n",
       "\n",
       "    .dataframe tbody tr th {\n",
       "        vertical-align: top;\n",
       "    }\n",
       "\n",
       "    .dataframe thead th {\n",
       "        text-align: right;\n",
       "    }\n",
       "</style>\n",
       "<table border=\"1\" class=\"dataframe\">\n",
       "  <thead>\n",
       "    <tr style=\"text-align: right;\">\n",
       "      <th></th>\n",
       "      <th>resample</th>\n",
       "      <th>sample_sizes</th>\n",
       "      <th>tv_mean_scoring</th>\n",
       "      <th>movie_mean_scoring</th>\n",
       "      <th>diff_means</th>\n",
       "    </tr>\n",
       "  </thead>\n",
       "  <tbody>\n",
       "    <tr>\n",
       "      <th>0</th>\n",
       "      <td>1</td>\n",
       "      <td>(200,200)</td>\n",
       "      <td>6.93535</td>\n",
       "      <td>6.51330</td>\n",
       "      <td>0.42205</td>\n",
       "    </tr>\n",
       "    <tr>\n",
       "      <th>1</th>\n",
       "      <td>2</td>\n",
       "      <td>(200,200)</td>\n",
       "      <td>6.78250</td>\n",
       "      <td>6.48145</td>\n",
       "      <td>0.30105</td>\n",
       "    </tr>\n",
       "    <tr>\n",
       "      <th>2</th>\n",
       "      <td>3</td>\n",
       "      <td>(200,200)</td>\n",
       "      <td>6.87850</td>\n",
       "      <td>6.43725</td>\n",
       "      <td>0.44125</td>\n",
       "    </tr>\n",
       "    <tr>\n",
       "      <th>3</th>\n",
       "      <td>4</td>\n",
       "      <td>(200,200)</td>\n",
       "      <td>6.87585</td>\n",
       "      <td>6.46235</td>\n",
       "      <td>0.41350</td>\n",
       "    </tr>\n",
       "    <tr>\n",
       "      <th>4</th>\n",
       "      <td>5</td>\n",
       "      <td>(200,200)</td>\n",
       "      <td>6.74140</td>\n",
       "      <td>6.32920</td>\n",
       "      <td>0.41220</td>\n",
       "    </tr>\n",
       "    <tr>\n",
       "      <th>...</th>\n",
       "      <td>...</td>\n",
       "      <td>...</td>\n",
       "      <td>...</td>\n",
       "      <td>...</td>\n",
       "      <td>...</td>\n",
       "    </tr>\n",
       "    <tr>\n",
       "      <th>99995</th>\n",
       "      <td>49996</td>\n",
       "      <td>(1000,1000)</td>\n",
       "      <td>6.87997</td>\n",
       "      <td>6.43373</td>\n",
       "      <td>0.44624</td>\n",
       "    </tr>\n",
       "    <tr>\n",
       "      <th>99996</th>\n",
       "      <td>49997</td>\n",
       "      <td>(1000,1000)</td>\n",
       "      <td>6.90253</td>\n",
       "      <td>6.45330</td>\n",
       "      <td>0.44923</td>\n",
       "    </tr>\n",
       "    <tr>\n",
       "      <th>99997</th>\n",
       "      <td>49998</td>\n",
       "      <td>(1000,1000)</td>\n",
       "      <td>6.85588</td>\n",
       "      <td>6.45089</td>\n",
       "      <td>0.40499</td>\n",
       "    </tr>\n",
       "    <tr>\n",
       "      <th>99998</th>\n",
       "      <td>49999</td>\n",
       "      <td>(1000,1000)</td>\n",
       "      <td>6.85998</td>\n",
       "      <td>6.41914</td>\n",
       "      <td>0.44084</td>\n",
       "    </tr>\n",
       "    <tr>\n",
       "      <th>99999</th>\n",
       "      <td>50000</td>\n",
       "      <td>(1000,1000)</td>\n",
       "      <td>6.91346</td>\n",
       "      <td>6.41886</td>\n",
       "      <td>0.49460</td>\n",
       "    </tr>\n",
       "  </tbody>\n",
       "</table>\n",
       "<p>100000 rows × 5 columns</p>\n",
       "</div>"
      ],
      "text/plain": [
       "       resample sample_sizes  tv_mean_scoring  movie_mean_scoring  diff_means\n",
       "0             1    (200,200)          6.93535             6.51330     0.42205\n",
       "1             2    (200,200)          6.78250             6.48145     0.30105\n",
       "2             3    (200,200)          6.87850             6.43725     0.44125\n",
       "3             4    (200,200)          6.87585             6.46235     0.41350\n",
       "4             5    (200,200)          6.74140             6.32920     0.41220\n",
       "...         ...          ...              ...                 ...         ...\n",
       "99995     49996  (1000,1000)          6.87997             6.43373     0.44624\n",
       "99996     49997  (1000,1000)          6.90253             6.45330     0.44923\n",
       "99997     49998  (1000,1000)          6.85588             6.45089     0.40499\n",
       "99998     49999  (1000,1000)          6.85998             6.41914     0.44084\n",
       "99999     50000  (1000,1000)          6.91346             6.41886     0.49460\n",
       "\n",
       "[100000 rows x 5 columns]"
      ]
     },
     "execution_count": 45,
     "metadata": {},
     "output_type": "execute_result"
    }
   ],
   "source": [
    "sampling_dist_diffs"
   ]
  },
  {
   "cell_type": "code",
   "execution_count": 46,
   "id": "011dbed8",
   "metadata": {},
   "outputs": [
    {
     "data": {
      "image/png": "[encoded data removed]",
      "text/plain": [
       "<Figure size 900x600 with 2 Axes>"
      ]
     },
     "metadata": {
      "needs_background": "light"
     },
     "output_type": "display_data"
    }
   ],
   "source": [
    "g = sns.FacetGrid(sampling_dist_diffs, row=\"sample_sizes\", height=2, aspect=3)\n",
    "g.map(sns.histplot, \"diff_means\", bins=30);\n",
    "g.map(plt.axvline, x=tv_movie_diff_mean_scoring, ymin=0, ymax=1, color=\"red\");"
   ]
  },
  {
   "cell_type": "markdown",
   "id": "1417f26a",
   "metadata": {},
   "source": [
    "So we see that increasing sample size leads to a tighter distribution. This fits with our understanding that larger samples lead to lower statistical uncertainty. "
   ]
  },
  {
   "cell_type": "code",
   "execution_count": 48,
   "id": "bc484c9b",
   "metadata": {},
   "outputs": [
    {
     "data": {
      "text/html": [
       "<div>\n",
       "<style scoped>\n",
       "    .dataframe tbody tr th:only-of-type {\n",
       "        vertical-align: middle;\n",
       "    }\n",
       "\n",
       "    .dataframe tbody tr th {\n",
       "        vertical-align: top;\n",
       "    }\n",
       "\n",
       "    .dataframe thead th {\n",
       "        text-align: right;\n",
       "    }\n",
       "</style>\n",
       "<table border=\"1\" class=\"dataframe\">\n",
       "  <thead>\n",
       "    <tr style=\"text-align: right;\">\n",
       "      <th></th>\n",
       "      <th>lower_interval</th>\n",
       "      <th>upper_interval</th>\n",
       "      <th>standard_error</th>\n",
       "    </tr>\n",
       "    <tr>\n",
       "      <th>sample_sizes</th>\n",
       "      <th></th>\n",
       "      <th></th>\n",
       "      <th></th>\n",
       "    </tr>\n",
       "  </thead>\n",
       "  <tbody>\n",
       "    <tr>\n",
       "      <th>(1000,1000)</th>\n",
       "      <td>0.36718</td>\n",
       "      <td>0.49684</td>\n",
       "      <td>0.033228</td>\n",
       "    </tr>\n",
       "    <tr>\n",
       "      <th>(200,200)</th>\n",
       "      <td>0.25620</td>\n",
       "      <td>0.61185</td>\n",
       "      <td>0.090857</td>\n",
       "    </tr>\n",
       "  </tbody>\n",
       "</table>\n",
       "</div>"
      ],
      "text/plain": [
       "              lower_interval  upper_interval  standard_error\n",
       "sample_sizes                                                \n",
       "(1000,1000)          0.36718         0.49684        0.033228\n",
       "(200,200)            0.25620         0.61185        0.090857"
      ]
     },
     "execution_count": 48,
     "metadata": {},
     "output_type": "execute_result"
    }
   ],
   "source": [
    "sampling_dist_diffs \\\n",
    "    .groupby(\"sample_sizes\") \\\n",
    "    .diff_means \\\n",
    "    .agg(\n",
    "        lower_interval=lambda x: np.quantile(x, 0.025),\n",
    "        upper_interval=lambda x: np.quantile(x, 0.975),\n",
    "        standard_error=np.std\n",
    "    )"
   ]
  },
  {
   "cell_type": "markdown",
   "id": "1dfac5f3",
   "metadata": {},
   "source": [
    "# Central limit theorem\n",
    "\n",
    "Again, what we've done above is a thought exercise only! In **inferential statistics** we typically:\n",
    "\n",
    "* don't have access to the whole population. If we did, we'd calculate the property of interest once, and that would be the end of the story (and this would fall in the remit of **descriptive statistics**)\n",
    "* don't repeatedly sample from the population. Typically, we take one sample, and we make it as large as cost or practicality allow, or as we've determined necessary to provide the **statistical power** required to reliably detect the effect we're interested in\n",
    "\n",
    "The central limit theorem tells us that the sampling distribution of the sample difference in means will be **normally distributed** (for large enough sample sizes and reasonably well-behaved population distributions), with a standard deviation given by \n",
    "  \n",
    "<center>\n",
    "$\\sigma_{\\overline{\\textrm{A}}-\\overline{\\textrm{B}}} = \\sqrt{\\frac{\\sigma_\\textrm{A}^2}{n_\\textrm{A}} + \\frac{\\sigma_\\textrm{B}^2}{n_\\textrm{B}}}$\n",
    "</center>\n",
    "    \n",
    "where $\\sigma_\\textrm{A}$ and $\\sigma_\\textrm{B}$ are the population standard deviations of the two groups, and $n_\\textrm{A}$ and $n_\\textrm{B}$ are the sample sizes \n",
    "\n",
    "We call the standard deviation of the sampling distribution the **standard error**.\n",
    "\n",
    "Let's see how close our computational values are to the theory:"
   ]
  },
  {
   "cell_type": "code",
   "execution_count": 55,
   "id": "b92d3869",
   "metadata": {},
   "outputs": [
    {
     "data": {
      "text/plain": [
       "0.09388662752763594"
      ]
     },
     "execution_count": 55,
     "metadata": {},
     "output_type": "execute_result"
    }
   ],
   "source": [
    "std_err_200 = np.sqrt(tv_movie_stdevs[\"tv\"]**2/200 + tv_movie_stdevs[\"movie\"]**2/200)\n",
    "std_err_200"
   ]
  },
  {
   "cell_type": "code",
   "execution_count": 56,
   "id": "e81b07fa",
   "metadata": {},
   "outputs": [
    {
     "data": {
      "text/plain": [
       "0.041987376265999396"
      ]
     },
     "execution_count": 56,
     "metadata": {},
     "output_type": "execute_result"
    }
   ],
   "source": [
    "std_err_1000 = np.sqrt(tv_movie_stdevs[\"tv\"]**2/1000 + tv_movie_stdevs[\"movie\"]**2/1000)\n",
    "std_err_1000"
   ]
  },
  {
   "cell_type": "markdown",
   "id": "d159dcda",
   "metadata": {},
   "source": [
    "Not too bad. The importance of the CLT in the history and current practice of statistics is immense. Up until the computational methods we're going to see below became routinely possible starting around the early 90s, this theory is all that we had! Decades of inferential statistics are built on it. But there are problems: \n",
    "\n",
    "* What is a 'large enough' sample? People often quote $n=30$, but is that large enough in the presence of skew, outliers? Rate of convergence to normal differs for different source distributions.\n",
    "* What do you do in the case that the CLT theory for the standard error of a particular statistic you are interested in is unavailable?\n",
    "* A lot of the fear of statistics comes from the complexity introduced by either making sure that the CLT is applicable to your problem, or fixing it so that it is!\n",
    "\n",
    "Enter **computational statistics and resampling**, the simpler brute force approach!"
   ]
  },
  {
   "cell_type": "markdown",
   "id": "f8a07e09",
   "metadata": {},
   "source": [
    "# Back to life, back to reality: a single sample...\n",
    "\n",
    "We don't have access to the population, we don't know the population parameters. We have a single sample and we're going to use it to infer population parameters. Let's have a look at a single sample"
   ]
  },
  {
   "cell_type": "code",
   "execution_count": 81,
   "id": "d8c974b4",
   "metadata": {},
   "outputs": [],
   "source": [
    "def create_single_sample(population, score_column, group_column, group_labels, group_sizes):\n",
    "    first_population_group = population.loc[\n",
    "        population[group_column] == group_labels[0], [group_column, score_column]\n",
    "    ]\n",
    "    second_population_group = population.loc[\n",
    "        population[group_column] == group_labels[1], [group_column, score_column]\n",
    "    ]\n",
    "    \n",
    "    first_group_sample = first_population_group.sample(group_sizes[0], replace=False)\n",
    "    second_group_sample = second_population_group.sample(group_sizes[1], replace=False)\n",
    "    \n",
    "    return pd.concat([first_group_sample, second_group_sample], axis=0, ignore_index=True)\n",
    "    "
   ]
  },
  {
   "cell_type": "markdown",
   "id": "cb7e5300",
   "metadata": {},
   "source": [
    "Let's treat ourselves, and at least assume that we have access to a decently sized sample of 1000 entries each from `tv` and `movie`."
   ]
  },
  {
   "cell_type": "code",
   "execution_count": 82,
   "id": "89fba3e6",
   "metadata": {},
   "outputs": [
    {
     "data": {
      "image/png": "[encoded data removed]",
      "text/plain": [
       "<Figure size 900x600 with 1 Axes>"
      ]
     },
     "metadata": {
      "needs_background": "light"
     },
     "output_type": "display_data"
    }
   ],
   "source": [
    "single_sample = create_single_sample(\n",
    "    population=anime_tv_movie, \n",
    "    score_column=\"scoring\", \n",
    "    group_column=\"media_type\",\n",
    "    group_labels=[\"tv\", \"movie\"], \n",
    "    group_sizes=[1000, 1000]\n",
    ")\n",
    "ax = sns.boxplot(x=\"media_type\", y=\"scoring\", data=single_sample, notch=True)"
   ]
  },
  {
   "cell_type": "code",
   "execution_count": 83,
   "id": "6280a755",
   "metadata": {},
   "outputs": [
    {
     "data": {
      "text/html": [
       "<div>\n",
       "<style scoped>\n",
       "    .dataframe tbody tr th:only-of-type {\n",
       "        vertical-align: middle;\n",
       "    }\n",
       "\n",
       "    .dataframe tbody tr th {\n",
       "        vertical-align: top;\n",
       "    }\n",
       "\n",
       "    .dataframe thead th {\n",
       "        text-align: right;\n",
       "    }\n",
       "</style>\n",
       "<table border=\"1\" class=\"dataframe\">\n",
       "  <thead>\n",
       "    <tr style=\"text-align: right;\">\n",
       "      <th></th>\n",
       "      <th>media_type</th>\n",
       "      <th>scoring</th>\n",
       "    </tr>\n",
       "  </thead>\n",
       "  <tbody>\n",
       "    <tr>\n",
       "      <th>0</th>\n",
       "      <td>tv</td>\n",
       "      <td>6.96</td>\n",
       "    </tr>\n",
       "    <tr>\n",
       "      <th>1</th>\n",
       "      <td>tv</td>\n",
       "      <td>6.81</td>\n",
       "    </tr>\n",
       "    <tr>\n",
       "      <th>2</th>\n",
       "      <td>tv</td>\n",
       "      <td>8.53</td>\n",
       "    </tr>\n",
       "    <tr>\n",
       "      <th>3</th>\n",
       "      <td>tv</td>\n",
       "      <td>7.71</td>\n",
       "    </tr>\n",
       "    <tr>\n",
       "      <th>4</th>\n",
       "      <td>tv</td>\n",
       "      <td>7.72</td>\n",
       "    </tr>\n",
       "    <tr>\n",
       "      <th>...</th>\n",
       "      <td>...</td>\n",
       "      <td>...</td>\n",
       "    </tr>\n",
       "    <tr>\n",
       "      <th>1995</th>\n",
       "      <td>movie</td>\n",
       "      <td>6.96</td>\n",
       "    </tr>\n",
       "    <tr>\n",
       "      <th>1996</th>\n",
       "      <td>movie</td>\n",
       "      <td>7.34</td>\n",
       "    </tr>\n",
       "    <tr>\n",
       "      <th>1997</th>\n",
       "      <td>movie</td>\n",
       "      <td>7.15</td>\n",
       "    </tr>\n",
       "    <tr>\n",
       "      <th>1998</th>\n",
       "      <td>movie</td>\n",
       "      <td>7.24</td>\n",
       "    </tr>\n",
       "    <tr>\n",
       "      <th>1999</th>\n",
       "      <td>movie</td>\n",
       "      <td>6.35</td>\n",
       "    </tr>\n",
       "  </tbody>\n",
       "</table>\n",
       "<p>2000 rows × 2 columns</p>\n",
       "</div>"
      ],
      "text/plain": [
       "     media_type  scoring\n",
       "0            tv     6.96\n",
       "1            tv     6.81\n",
       "2            tv     8.53\n",
       "3            tv     7.71\n",
       "4            tv     7.72\n",
       "...         ...      ...\n",
       "1995      movie     6.96\n",
       "1996      movie     7.34\n",
       "1997      movie     7.15\n",
       "1998      movie     7.24\n",
       "1999      movie     6.35\n",
       "\n",
       "[2000 rows x 2 columns]"
      ]
     },
     "execution_count": 83,
     "metadata": {},
     "output_type": "execute_result"
    }
   ],
   "source": [
    "single_sample"
   ]
  },
  {
   "cell_type": "markdown",
   "id": "96e3e84a",
   "metadata": {},
   "source": [
    "Here's our sample statistic"
   ]
  },
  {
   "cell_type": "code",
   "execution_count": 84,
   "id": "88565015",
   "metadata": {},
   "outputs": [
    {
     "data": {
      "text/plain": [
       "0.4068200000000033"
      ]
     },
     "execution_count": 84,
     "metadata": {},
     "output_type": "execute_result"
    }
   ],
   "source": [
    "sample_statistic = np.mean(single_sample.loc[single_sample.media_type == \"tv\", \"scoring\"]) \\\n",
    "    - np.mean(single_sample.loc[single_sample.media_type == \"movie\", \"scoring\"])\n",
    "sample_statistic"
   ]
  },
  {
   "cell_type": "markdown",
   "id": "8df90e70",
   "metadata": {},
   "source": [
    "So what do we do if we only have this one sample. This is all the data it was practical to gather, but our aim hasn't really changed. If we can get access to something approximating the sampling distribution, we can make progress. In the past, we would have used the CLT to tell us something about the sampling distribution and go ahead, with the doubts incurred about applicability, non-normality etc, but computational power now gives us another approach \n",
    "\n",
    "## Bootstrapping\n",
    "\n",
    "Bootstrapping seems like magic, but it isn't really! The idea is that we generate lots of resamples from our sample by **sampling with replacement**, keeping sample size the same as the original sample (this is important)\n",
    "\n",
    "e.g.\n",
    "<center>\n",
    "$\\textrm{sample} = {A, B, C, D, E}$\n",
    "</center>\n",
    "<center>\n",
    "$\\textrm{bootstrap1} = {E, B, C, B, A},$\n",
    "</center>\n",
    "<center>\n",
    "$\\textrm{bootstrap2} = {A, E, C, C, A},$\n",
    "</center>\n",
    "<center>\n",
    "$\\textrm{bootstrap3} = {D, B, C, A, D},$\n",
    "</center>\n",
    "<center>\n",
    "$\\textrm{bootstrap4} = {C, B, E, C, B},$\n",
    "</center>\n",
    "<center>\n",
    "$\\textrm{bootstrap5} = {B, C, C, B, C},$\n",
    "</center>\n",
    "<center>\n",
    "and so on...\n",
    "</center>\n",
    "\n",
    "We then calculate sample statistics from each of the resamples, and use this as \n",
    "\n",
    "Boostrapping is based on the logic that **population is to sample as sample is to resample**. It cannot magically repair the effects of small samples or know more about your population than is known by the single sample you started with. For bootstrapping to stand a reasonable chance of working, you need to be confident that your original sample is sufficiently large, preferrably randomly sampled, and representative of your population (stratification can help with this, e.g. if you know in your population that 40, 20 and 40% fall into groups A, B and C respectively, try to make sure proportions in your sample are similar)."
   ]
  },
  {
   "cell_type": "code",
   "execution_count": 85,
   "id": "6aa795f2",
   "metadata": {},
   "outputs": [],
   "source": [
    "def create_diff_means_bootstrap_dist(sample, score_column, group_column, group_labels, num_resamples):\n",
    "    # pre-filter sample to groups, and get group sizes\n",
    "    first_sample_group = sample.loc[\n",
    "        sample[group_column] == group_labels[0], score_column\n",
    "    ]\n",
    "    first_sample_group_size = first_sample_group.shape[0]\n",
    "    second_sample_group = sample.loc[\n",
    "        sample[group_column] == group_labels[1], score_column\n",
    "    ]\n",
    "    second_sample_group_size = second_sample_group.shape[0]\n",
    "    \n",
    "    # resample from each group with replacement, calculate stat, store\n",
    "    bootstrap_dist = []\n",
    "    for i in range(num_resamples):\n",
    "        first_group_sample = first_sample_group.sample(first_sample_group_size, replace=True)\n",
    "        second_group_sample = second_sample_group.sample(second_sample_group_size, replace=False)\n",
    "        \n",
    "        first_group_sample_mean = first_group_sample.mean()\n",
    "        second_group_sample_mean = second_group_sample.mean()\n",
    "        \n",
    "        this_diff = first_group_sample_mean - second_group_sample_mean\n",
    "        \n",
    "        bootstrap_dist.append([i + 1, \\\n",
    "            first_group_sample_mean, second_group_sample_mean, this_diff])\n",
    "    \n",
    "    return pd.DataFrame(\n",
    "        data=bootstrap_dist, \n",
    "        columns=[\"resample\", f\"{group_labels[0]}_mean_{score_column}\", \\\n",
    "            f\"{group_labels[1]}_mean_{score_column}\", \"diff_means\"]\n",
    "    )"
   ]
  },
  {
   "cell_type": "code",
   "execution_count": 86,
   "id": "0cc03533",
   "metadata": {},
   "outputs": [],
   "source": [
    "bootstrap_dist = create_diff_means_bootstrap_dist(\n",
    "    sample=single_sample,\n",
    "    score_column=\"scoring\",\n",
    "    group_column=\"media_type\",\n",
    "    group_labels=[\"tv\", \"movie\"],\n",
    "    num_resamples=50000\n",
    ")"
   ]
  },
  {
   "cell_type": "code",
   "execution_count": 87,
   "id": "f32e60ee",
   "metadata": {},
   "outputs": [
    {
     "data": {
      "text/html": [
       "<div>\n",
       "<style scoped>\n",
       "    .dataframe tbody tr th:only-of-type {\n",
       "        vertical-align: middle;\n",
       "    }\n",
       "\n",
       "    .dataframe tbody tr th {\n",
       "        vertical-align: top;\n",
       "    }\n",
       "\n",
       "    .dataframe thead th {\n",
       "        text-align: right;\n",
       "    }\n",
       "</style>\n",
       "<table border=\"1\" class=\"dataframe\">\n",
       "  <thead>\n",
       "    <tr style=\"text-align: right;\">\n",
       "      <th></th>\n",
       "      <th>resample</th>\n",
       "      <th>tv_mean_scoring</th>\n",
       "      <th>movie_mean_scoring</th>\n",
       "      <th>diff_means</th>\n",
       "    </tr>\n",
       "  </thead>\n",
       "  <tbody>\n",
       "    <tr>\n",
       "      <th>0</th>\n",
       "      <td>1</td>\n",
       "      <td>6.85173</td>\n",
       "      <td>6.45234</td>\n",
       "      <td>0.39939</td>\n",
       "    </tr>\n",
       "    <tr>\n",
       "      <th>1</th>\n",
       "      <td>2</td>\n",
       "      <td>6.84359</td>\n",
       "      <td>6.45234</td>\n",
       "      <td>0.39125</td>\n",
       "    </tr>\n",
       "    <tr>\n",
       "      <th>2</th>\n",
       "      <td>3</td>\n",
       "      <td>6.86286</td>\n",
       "      <td>6.45234</td>\n",
       "      <td>0.41052</td>\n",
       "    </tr>\n",
       "    <tr>\n",
       "      <th>3</th>\n",
       "      <td>4</td>\n",
       "      <td>6.86850</td>\n",
       "      <td>6.45234</td>\n",
       "      <td>0.41616</td>\n",
       "    </tr>\n",
       "    <tr>\n",
       "      <th>4</th>\n",
       "      <td>5</td>\n",
       "      <td>6.84311</td>\n",
       "      <td>6.45234</td>\n",
       "      <td>0.39077</td>\n",
       "    </tr>\n",
       "    <tr>\n",
       "      <th>...</th>\n",
       "      <td>...</td>\n",
       "      <td>...</td>\n",
       "      <td>...</td>\n",
       "      <td>...</td>\n",
       "    </tr>\n",
       "    <tr>\n",
       "      <th>49995</th>\n",
       "      <td>49996</td>\n",
       "      <td>6.83939</td>\n",
       "      <td>6.45234</td>\n",
       "      <td>0.38705</td>\n",
       "    </tr>\n",
       "    <tr>\n",
       "      <th>49996</th>\n",
       "      <td>49997</td>\n",
       "      <td>6.90217</td>\n",
       "      <td>6.45234</td>\n",
       "      <td>0.44983</td>\n",
       "    </tr>\n",
       "    <tr>\n",
       "      <th>49997</th>\n",
       "      <td>49998</td>\n",
       "      <td>6.82365</td>\n",
       "      <td>6.45234</td>\n",
       "      <td>0.37131</td>\n",
       "    </tr>\n",
       "    <tr>\n",
       "      <th>49998</th>\n",
       "      <td>49999</td>\n",
       "      <td>6.86125</td>\n",
       "      <td>6.45234</td>\n",
       "      <td>0.40891</td>\n",
       "    </tr>\n",
       "    <tr>\n",
       "      <th>49999</th>\n",
       "      <td>50000</td>\n",
       "      <td>6.84518</td>\n",
       "      <td>6.45234</td>\n",
       "      <td>0.39284</td>\n",
       "    </tr>\n",
       "  </tbody>\n",
       "</table>\n",
       "<p>50000 rows × 4 columns</p>\n",
       "</div>"
      ],
      "text/plain": [
       "       resample  tv_mean_scoring  movie_mean_scoring  diff_means\n",
       "0             1          6.85173             6.45234     0.39939\n",
       "1             2          6.84359             6.45234     0.39125\n",
       "2             3          6.86286             6.45234     0.41052\n",
       "3             4          6.86850             6.45234     0.41616\n",
       "4             5          6.84311             6.45234     0.39077\n",
       "...         ...              ...                 ...         ...\n",
       "49995     49996          6.83939             6.45234     0.38705\n",
       "49996     49997          6.90217             6.45234     0.44983\n",
       "49997     49998          6.82365             6.45234     0.37131\n",
       "49998     49999          6.86125             6.45234     0.40891\n",
       "49999     50000          6.84518             6.45234     0.39284\n",
       "\n",
       "[50000 rows x 4 columns]"
      ]
     },
     "execution_count": 87,
     "metadata": {},
     "output_type": "execute_result"
    }
   ],
   "source": [
    "bootstrap_dist"
   ]
  },
  {
   "cell_type": "code",
   "execution_count": 101,
   "id": "e8321eb1",
   "metadata": {},
   "outputs": [
    {
     "data": {
      "image/png": "[encoded data removed]",
      "text/plain": [
       "<Figure size 900x600 with 1 Axes>"
      ]
     },
     "metadata": {
      "needs_background": "light"
     },
     "output_type": "display_data"
    }
   ],
   "source": [
    "sns.histplot(bootstrap_dist.diff_means, bins=30, edgecolor=\"white\");\n",
    "plt.axvline(sample_statistic, 0, 1, color=\"red\");"
   ]
  },
  {
   "cell_type": "markdown",
   "id": "7c6e21a3",
   "metadata": {},
   "source": [
    "Looks pretty normal again, but let's check with a quantile-quantile plot"
   ]
  },
  {
   "cell_type": "code",
   "execution_count": 89,
   "id": "2006c1fa",
   "metadata": {},
   "outputs": [
    {
     "name": "stderr",
     "output_type": "stream",
     "text": [
      "/home/del/anaconda3/lib/python3.9/site-packages/statsmodels/graphics/gofplots.py:993: UserWarning: marker is redundantly defined by the 'marker' keyword argument and the fmt string \"bo\" (-> marker='o'). The keyword argument will take precedence.\n",
      "  ax.plot(x, y, fmt, **plot_style)\n"
     ]
    },
    {
     "data": {
      "image/png": "[encoded data removed]",
      "text/plain": [
       "<Figure size 900x600 with 1 Axes>"
      ]
     },
     "metadata": {
      "needs_background": "light"
     },
     "output_type": "display_data"
    }
   ],
   "source": [
    "sm.qqplot(bootstrap_dist.diff_means, line=\"s\", alpha=0.3);"
   ]
  },
  {
   "cell_type": "markdown",
   "id": "fe78cbcd",
   "metadata": {},
   "source": [
    "Let's see what the bootstrapped standard error looks like"
   ]
  },
  {
   "cell_type": "code",
   "execution_count": 90,
   "id": "ffe73bd9",
   "metadata": {},
   "outputs": [
    {
     "data": {
      "text/plain": [
       "0.025440582022838203"
      ]
     },
     "execution_count": 90,
     "metadata": {},
     "output_type": "execute_result"
    }
   ],
   "source": [
    "bootstrap_dist.diff_means.std()"
   ]
  },
  {
   "cell_type": "markdown",
   "id": "431995b2",
   "metadata": {},
   "source": [
    "A bit lower than the value calculated by resampling from the full population, but this is to be expected given that not all of the outliers in the population `scoring` column for the `tv` and `movie` groups will have made it into the original sample, reducing variability in the mean. Again, the bootstrap isn't magic, it can only work with the sample it's given."
   ]
  },
  {
   "cell_type": "markdown",
   "id": "be2a370c",
   "metadata": {},
   "source": [
    "### Percentile CI\n",
    "\n",
    "Let's use the bootstrapped sampling distribution to calculate confidence interval for the statistic. The simplest approach is very similar to the one we used earlier: for confidence level $C$, calculate quantiles for probabilities $\\frac{1 - C}{2}$ and $\\frac{1 + C}{2}$. Note that this is what we call a 'non-parametric' approach - we don't make any assumptions about the shape or form of the bootstrap sampling distribution in calculating the CI "
   ]
  },
  {
   "cell_type": "code",
   "execution_count": 91,
   "id": "96442003",
   "metadata": {},
   "outputs": [],
   "source": [
    "def percentile_CI(bootstrap_dist, value_column, confidence_level):\n",
    "    lower_prob = (1 - confidence_level) / 2\n",
    "    upper_prob = (1 + confidence_level) / 2\n",
    "    return np.quantile(bootstrap_dist[value_column], [lower_prob, upper_prob])"
   ]
  },
  {
   "cell_type": "code",
   "execution_count": 92,
   "id": "d1feafe5",
   "metadata": {},
   "outputs": [
    {
     "data": {
      "text/plain": [
       "array([0.35652   , 0.45630025])"
      ]
     },
     "execution_count": 92,
     "metadata": {},
     "output_type": "execute_result"
    }
   ],
   "source": [
    "percentile_CI(bootstrap_dist, \"diff_means\", 0.95)"
   ]
  },
  {
   "cell_type": "markdown",
   "id": "ac3003b3",
   "metadata": {},
   "source": [
    "### Bias-corrected CI\n",
    "\n",
    "We expect the sampling distribution to be symmetrically distributed around the sample stat, but the effects of skew and outliers can sometimes shift the distribution left or right a bit. We call this shift **bias**, but we can correct for it before we calculate the CI.\n",
    "\n",
    "Note that this is a 'parametric' approach. The presence of `norm.ppf()` in the code below tells us we're assuming that the sampling distribution is normally distributed, which you should check before using this method."
   ]
  },
  {
   "cell_type": "code",
   "execution_count": 93,
   "id": "8261b359",
   "metadata": {},
   "outputs": [],
   "source": [
    "def bias_corrected_CI(bootstrap_dist, sample_stat, value_column, confidence_level):\n",
    "    '''\n",
    "    Assumes that bootstrap sampling distribution is normal and should by symmetrically distributed around the \n",
    "    sample statistic. Any deviation from latter reflects effects of bias in bootstrap distribution. CI can be \n",
    "    corrected to symmetrise distribution around sample statistic. \n",
    "    '''\n",
    "    lower_prob = (1 - confidence_level) / 2\n",
    "    upper_prob = (1 + confidence_level) / 2\n",
    "    \n",
    "    lower_z = norm.ppf(lower_prob)\n",
    "    upper_z = norm.ppf(upper_prob)\n",
    "    \n",
    "    num_below_stat = np.sum(np.array([1 for value in bootstrap_dist[value_column] if value <= sample_stat]))\n",
    "    frac_below_stat = num_below_stat / bootstrap_dist.shape[0]\n",
    "    z0 = norm.ppf(frac_below_stat)\n",
    "    \n",
    "    corrected_lower_prob = norm.cdf(2 * z0 + lower_z)\n",
    "    corrected_upper_prob = norm.cdf(2 * z0 + upper_z)\n",
    "        \n",
    "    return np.quantile(bootstrap_dist[value_column], [corrected_lower_prob, corrected_upper_prob])"
   ]
  },
  {
   "cell_type": "code",
   "execution_count": 94,
   "id": "cc7c94c8",
   "metadata": {},
   "outputs": [
    {
     "data": {
      "text/plain": [
       "array([0.35678946, 0.45650343])"
      ]
     },
     "execution_count": 94,
     "metadata": {},
     "output_type": "execute_result"
    }
   ],
   "source": [
    "bias_corrected_CI(bootstrap_dist, sample_statistic, \"diff_means\", 0.95)"
   ]
  },
  {
   "cell_type": "markdown",
   "id": "a5f7da6f",
   "metadata": {},
   "source": [
    "### Interpretation of CIs\n",
    "\n",
    "Frequentist statisticians tie themselves in philosophical knots over the interpretation of CIs. Naively, you might think that if the confidence level is say 95%, then there is 0.95 probability of finding the population parameter inside the calculated interval. But, from the frequentist view, this cannot be correct, as it makes it sound like it's the population parameter that is subject to uncertainty, while the data is fixed. Rather, frequentists would say that the population parameter and population data are fixed (but unknown), and it's the **sampling process that introduces uncertainty**. \n",
    "\n",
    "Fair enough and whatever: the interpretation of a 95% CI then is the following:\n",
    "\n",
    "* Given 100 random samples, all of the same size, drawn from the population\n",
    "* We calculate a 95% CI for the statistic of interest for each sample \n",
    "* 95 of the 100 CIs would contain the population parameter\n",
    "* 5 would not\n",
    "\n",
    "Importantly, we don't know ahead of time whether our single sample is one of the lucky 95 samples or one of the unlucky 5! Frequentists encode this uncertainty by saying \"we're 95% **confident** the population parameter is in the range blah to blah\"."
   ]
  },
  {
   "cell_type": "markdown",
   "id": "a26bd725",
   "metadata": {},
   "source": [
    "### Improving bootstrap accuracy\n",
    "\n",
    "We don't really have time to get into them here, but more accurate bootstrap CI methods exist than the simple percentile and bias-corrected (BC) algorithms presented above. In particular, the double (or studentized) bootstrap CI offers significant improvements at the cost of increased computational complexity. \n",
    "\n",
    "In the latter method, we perform **nested bootstraps**: for each outer bootstrap resample we perform an inner bootstrap, typically with a much smaller number of replications of the order 10s-100s. The aim of the inner bootstrap is to estimate the standard error in sample statistic for that particular resample. \n",
    "\n",
    "It's easy to appreciate that this inner loop greatly increases the computational burden, naively by a factor of the number of inner replications, but algorithms based on early stopping rules exist that aim to curb the effort required (see Nankervis 2005 https://doi.org/10.1016/j.csda.2004.05.023).  \n",
    "\n",
    "![Variation in coverage and CI width of different bootstrap methods with sample size](img/CI_coverage_width_methods.png)\n",
    "**Fig. 1**: Variation in coverage and CI width of different bootstrap methods with sample size (Bittmann 2021)\n",
    "\n",
    "**'Coverage'**: we aim to calculate CIs at a particular confidence level, but the effect of small sample sizes and/or skew and outliers can shift confidence away from the anticipated value. The actual value achieved is termed the 'coverage'. We can estimate coverage in the following way:\n",
    "\n",
    "1. For a given population distribution, calculate the parameter of interest.\n",
    "2. Pull a random sample from the population (without replacement) of the correct size $n$.\n",
    "3. Given that sample, calculate a CI for your statistic at the desired confidence level, using your algorithm of choice, making sure the algorithm is converged wrt other variables we control (number of replicates being the main one).\n",
    "4. Note whether the population parameter lies within the CI.\n",
    "5. Go to 2 and repeat a decent number of times, e.g. a few thousand.\n",
    "6. The proportion of calculated CIs containing the population parameter is the coverage achieved for that population distribution, at that sample size, for that bootstrap algorithm."
   ]
  },
  {
   "cell_type": "markdown",
   "id": "c4681be7",
   "metadata": {},
   "source": [
    "# Hypothesis testing\n",
    "\n",
    "## Reminder \n",
    "\n",
    "Typically have two **mutually exclusive** (can't both be true simultaneously) and **exhaustive** (no other options) hypotheses we are trying to decide between based on available data. Acknowledging we have choice in how we set up our hypotheses, by convention: \n",
    "\n",
    "* We consider the **null** hypothesis $H_0$ to be true by default. This represents the 'conservative' position (business as usual, nothing interesting is happening). In a court case, this would be the 'not guilty' verdict.\n",
    "* We place the burden of proof on the **alternative** hypothesis $H_a$, which represents the 'active' position (something interesting is happening, new finding, significant change from prior behaviour). In a court case, this would be the 'guilty' verdict, which has to be actively proven (as 'not guilty' is the default judgement).\n",
    "\n",
    "**Example - Website A/B testing** \n",
    "\n",
    "For randomly sampled group of users B (perhaps stratified) show them button in proposed new position, while for remainder group A show them button in old position. Gather click-through rate for both groups. Try to aim for equal group sizes. \n",
    "* $H_0 = \\textrm{click-through rate in group B is less than or equal to rate in group A}$ \n",
    "* $H_a = \\textrm{click-through rate in group B is greater than rate in group A}$\n",
    "* This is an example of a 'one-tailed' test: we are interested in deviations from the null in only one direction ('...greater than...')\n",
    "* If we had more than two potential button positions we could use an ANOVA style approach where we split incoming users into more than two groups. Our first hypothesis test would be determine whether 'somewhere there exists a significant difference between click-through rates amidst all the groups'. We could then conduct post-hoc tests to determine where any significant differences arise.\n",
    "\n",
    "The outcome of the test is typically determined by calculating a $p$-value ($p$ standing for probability) and comparing it with a **significance level** $\\alpha$ set before the test was started ($p \\le \\alpha$ means the effect is significant). Typically, $\\alpha = 0.05$ is used, although this is pretty arbitrary. A better way to think of this is as the **false positive or type-I error rate**, and then using the usual decision theory analysis to set optimal values for both $\\alpha$ and $\\beta$, the **false negative or type-II error rate**.\n",
    "\n",
    "There has been a recent move away from $p$-values, $\\alpha$ etc to think about hypothesis tests more in terms of **effect size** and CIs. This has been driven by the thinking that while a $p$-value can tell you whether an effect is statistically significant (at a given $\\alpha$ level), it cannot tell you whether the effect is practically significant. Consider a drug proven by double blind experiment and hypothesis test as lowering mean blood pressure in those taking it by 0.01 mmHg on average. While the effect may be statistically significant, it is irrelevant in practical terms\n",
    "\n"
   ]
  },
  {
   "cell_type": "markdown",
   "id": "6a407351",
   "metadata": {},
   "source": [
    "## Sampling from the null distribution\n",
    "\n",
    "The $p$-value is defined by the following query: \n",
    "\n",
    "> Assuming the null hypothesis $H_0$ to be true, how in what proportion of samples would we see a statistic of size equal to or greater than the actual statistic calculated from the sample?\n",
    "\n",
    "In order to approach this via bootstrapping, we need to adjust our sample data to let us resample from the null distribution. Let's say we're aiming to test the following hypotheses at $\\alpha = 0.05$ (i.e. we can tolerate a false positive rate of 1 in 20):\n",
    "\n",
    "* $H_0$: the mean `scoring` for `tv` and `movie` animes is the same, i.e. $\\mu_{\\textrm{tv}} - \\mu_{\\textrm{movie}} = 0$ \n",
    "* $H_a$: the mean `scoring` for `tv` and `movie` animes differs, i.e. $\\mu_{\\textrm{tv}} - \\mu_{\\textrm{movie}} \\neq 0$\n",
    "\n",
    "In order to sample from the null, we need to: \n",
    "\n",
    "* Shift the `tv` and `movie` sample distributions so their means are the same\n",
    "* Repeatedly resample from these shifted distributions, calculating and storing $\\textrm{diff means} = \\overline{\\textrm{scoring}}_\\textrm{tv} - \\overline{\\textrm{scoring}}_\\textrm{movie}$ to build up the null distribution\n",
    "* See where our calculated $\\textrm{diff means} = \\overline{\\textrm{scoring}}_\\textrm{tv} - \\overline{\\textrm{scoring}}_\\textrm{movie}$ from the original sample falls on this null distribution. In particular, what proportion of the null distribution lies beyond this point in either direction. This is the $p$-value."
   ]
  },
  {
   "cell_type": "code",
   "execution_count": 95,
   "id": "be656668",
   "metadata": {},
   "outputs": [
    {
     "data": {
      "text/plain": [
       "0.4068200000000033"
      ]
     },
     "execution_count": 95,
     "metadata": {},
     "output_type": "execute_result"
    }
   ],
   "source": [
    "sample_statistic"
   ]
  },
  {
   "cell_type": "code",
   "execution_count": 96,
   "id": "2407cc0b",
   "metadata": {},
   "outputs": [
    {
     "data": {
      "text/html": [
       "<div>\n",
       "<style scoped>\n",
       "    .dataframe tbody tr th:only-of-type {\n",
       "        vertical-align: middle;\n",
       "    }\n",
       "\n",
       "    .dataframe tbody tr th {\n",
       "        vertical-align: top;\n",
       "    }\n",
       "\n",
       "    .dataframe thead th {\n",
       "        text-align: right;\n",
       "    }\n",
       "</style>\n",
       "<table border=\"1\" class=\"dataframe\">\n",
       "  <thead>\n",
       "    <tr style=\"text-align: right;\">\n",
       "      <th></th>\n",
       "      <th>media_type</th>\n",
       "      <th>scoring</th>\n",
       "      <th>shifted_scoring</th>\n",
       "    </tr>\n",
       "  </thead>\n",
       "  <tbody>\n",
       "    <tr>\n",
       "      <th>0</th>\n",
       "      <td>tv</td>\n",
       "      <td>6.96</td>\n",
       "      <td>6.55318</td>\n",
       "    </tr>\n",
       "    <tr>\n",
       "      <th>1</th>\n",
       "      <td>tv</td>\n",
       "      <td>6.81</td>\n",
       "      <td>6.40318</td>\n",
       "    </tr>\n",
       "    <tr>\n",
       "      <th>2</th>\n",
       "      <td>tv</td>\n",
       "      <td>8.53</td>\n",
       "      <td>8.12318</td>\n",
       "    </tr>\n",
       "    <tr>\n",
       "      <th>3</th>\n",
       "      <td>tv</td>\n",
       "      <td>7.71</td>\n",
       "      <td>7.30318</td>\n",
       "    </tr>\n",
       "    <tr>\n",
       "      <th>4</th>\n",
       "      <td>tv</td>\n",
       "      <td>7.72</td>\n",
       "      <td>7.31318</td>\n",
       "    </tr>\n",
       "    <tr>\n",
       "      <th>...</th>\n",
       "      <td>...</td>\n",
       "      <td>...</td>\n",
       "      <td>...</td>\n",
       "    </tr>\n",
       "    <tr>\n",
       "      <th>1995</th>\n",
       "      <td>movie</td>\n",
       "      <td>6.96</td>\n",
       "      <td>6.96000</td>\n",
       "    </tr>\n",
       "    <tr>\n",
       "      <th>1996</th>\n",
       "      <td>movie</td>\n",
       "      <td>7.34</td>\n",
       "      <td>7.34000</td>\n",
       "    </tr>\n",
       "    <tr>\n",
       "      <th>1997</th>\n",
       "      <td>movie</td>\n",
       "      <td>7.15</td>\n",
       "      <td>7.15000</td>\n",
       "    </tr>\n",
       "    <tr>\n",
       "      <th>1998</th>\n",
       "      <td>movie</td>\n",
       "      <td>7.24</td>\n",
       "      <td>7.24000</td>\n",
       "    </tr>\n",
       "    <tr>\n",
       "      <th>1999</th>\n",
       "      <td>movie</td>\n",
       "      <td>6.35</td>\n",
       "      <td>6.35000</td>\n",
       "    </tr>\n",
       "  </tbody>\n",
       "</table>\n",
       "<p>2000 rows × 3 columns</p>\n",
       "</div>"
      ],
      "text/plain": [
       "     media_type  scoring  shifted_scoring\n",
       "0            tv     6.96          6.55318\n",
       "1            tv     6.81          6.40318\n",
       "2            tv     8.53          8.12318\n",
       "3            tv     7.71          7.30318\n",
       "4            tv     7.72          7.31318\n",
       "...         ...      ...              ...\n",
       "1995      movie     6.96          6.96000\n",
       "1996      movie     7.34          7.34000\n",
       "1997      movie     7.15          7.15000\n",
       "1998      movie     7.24          7.24000\n",
       "1999      movie     6.35          6.35000\n",
       "\n",
       "[2000 rows x 3 columns]"
      ]
     },
     "execution_count": 96,
     "metadata": {},
     "output_type": "execute_result"
    }
   ],
   "source": [
    "single_sample['shifted_scoring'] = np.where(\n",
    "    single_sample.media_type == \"tv\", \n",
    "    single_sample.scoring - sample_statistic, \n",
    "    single_sample.scoring\n",
    ")\n",
    "single_sample"
   ]
  },
  {
   "cell_type": "code",
   "execution_count": 98,
   "id": "a4d1955a",
   "metadata": {},
   "outputs": [
    {
     "data": {
      "text/plain": [
       "media_type\n",
       "movie    6.45234\n",
       "tv       6.45234\n",
       "Name: shifted_scoring, dtype: float64"
      ]
     },
     "execution_count": 98,
     "metadata": {},
     "output_type": "execute_result"
    }
   ],
   "source": [
    "single_sample \\\n",
    "    .groupby(\"media_type\") \\\n",
    "    .shifted_scoring \\\n",
    "    .mean()"
   ]
  },
  {
   "cell_type": "code",
   "execution_count": 100,
   "id": "facf8e5e",
   "metadata": {},
   "outputs": [],
   "source": [
    "bootstrap_null_dist = create_diff_means_bootstrap_dist(\n",
    "    sample=single_sample,\n",
    "    score_column=\"shifted_scoring\",\n",
    "    group_column=\"media_type\",\n",
    "    group_labels=[\"tv\", \"movie\"],\n",
    "    num_resamples=50000\n",
    ")"
   ]
  },
  {
   "cell_type": "code",
   "execution_count": 103,
   "id": "e1c01f57",
   "metadata": {},
   "outputs": [
    {
     "data": {
      "image/png": "[encoded data removed]",
      "text/plain": [
       "<Figure size 900x600 with 1 Axes>"
      ]
     },
     "metadata": {
      "needs_background": "light"
     },
     "output_type": "display_data"
    }
   ],
   "source": [
    "sns.histplot(bootstrap_null_dist.diff_means, bins=30, edgecolor=\"white\");\n",
    "plt.axvline(0, 0, 1, color=\"red\");"
   ]
  },
  {
   "cell_type": "code",
   "execution_count": 111,
   "id": "79360953",
   "metadata": {},
   "outputs": [
    {
     "data": {
      "text/plain": [
       "1.999960000799984e-05"
      ]
     },
     "execution_count": 111,
     "metadata": {},
     "output_type": "execute_result"
    }
   ],
   "source": [
    "# there's at least one resample where there is true: the original resample\n",
    "# two-tailed hypothesis test: we're interested in deviations in both directions\n",
    "p_value = (np.sum(np.where( np.abs(bootstrap_null_dist.diff_means) >= sample_statistic, 1, 0 )) + 1)/ ( 50000 + 1)\n",
    "p_value"
   ]
  },
  {
   "cell_type": "markdown",
   "id": "56d1554a",
   "metadata": {},
   "source": [
    "The $p$-value is much less than $\\alpha = 0.05$, so we feel confident rejecting $H_0$ and accepting $H_a$: there is significant evidence that the mean `scoring` of `tv` and `movie` anime types differs in the population from which the sample was drawn. Note that we're **inferring** this for the population based on a sample.\n",
    "\n",
    "We could also approach this by calculating a 95% CI of the original sampling distribution, as earlier. If the null value is not inside the CI, we can reject $H_0$ at a significance level of $1-C$, where $C$ is the confidence level. Just a reminder (as we've already done this)"
   ]
  },
  {
   "cell_type": "code",
   "execution_count": 112,
   "id": "b797fbb1",
   "metadata": {},
   "outputs": [
    {
     "data": {
      "text/plain": [
       "array([0.35652   , 0.45630025])"
      ]
     },
     "execution_count": 112,
     "metadata": {},
     "output_type": "execute_result"
    }
   ],
   "source": [
    "percentile_CI(bootstrap_dist, \"diff_means\", 0.95)"
   ]
  },
  {
   "cell_type": "markdown",
   "id": "3f252c15",
   "metadata": {},
   "source": [
    "Zero doesn't fall within the interval, so again we reject $H_0$ and accept $H_a$. The advantage of this is that it gives us a sense of the size of the effect we're investigating. The downside is we don't get a $p$-value."
   ]
  },
  {
   "cell_type": "markdown",
   "id": "91c147de",
   "metadata": {},
   "source": [
    "# Bootstrapping regression"
   ]
  },
  {
   "cell_type": "code",
   "execution_count": null,
   "id": "1a3cf593",
   "metadata": {},
   "outputs": [],
   "source": [
    "anime_tv = anime.loc[anime.media_type == \"tv\", :].dropna(subset=[\"scoring\", \"average_episode_duration\"])\n",
    "anime_tv.average_episode_duration"
   ]
  },
  {
   "cell_type": "code",
   "execution_count": null,
   "id": "f1d26b25",
   "metadata": {},
   "outputs": [],
   "source": [
    "anime_tv.average_episode_duration = pd.to_timedelta(anime.average_episode_duration).apply(lambda x: x.total_seconds())\n",
    "plot = sns.scatterplot(data=anime_tv, x=\"average_episode_duration\", y=\"scoring\", alpha=0.3);"
   ]
  },
  {
   "cell_type": "code",
   "execution_count": null,
   "id": "73449c4a",
   "metadata": {},
   "outputs": [],
   "source": [
    "model = sm.OLS(endog=anime_tv.scoring, exog=sm.add_constant(anime_tv.average_episode_duration)).fit()"
   ]
  },
  {
   "cell_type": "code",
   "execution_count": null,
   "id": "9426c041",
   "metadata": {},
   "outputs": [],
   "source": [
    "model.params"
   ]
  },
  {
   "cell_type": "code",
   "execution_count": null,
   "id": "ba4cb6e9",
   "metadata": {},
   "outputs": [],
   "source": [
    "plot = sns.scatterplot(data=anime_tv, x=\"average_episode_duration\", y=\"scoring\", alpha=0.3);\n",
    "plt.axline(xy1=(0, model.params['const']), slope=model.params['average_episode_duration'], color=\"red\");"
   ]
  },
  {
   "cell_type": "code",
   "execution_count": null,
   "id": "2d1b6f1f",
   "metadata": {},
   "outputs": [],
   "source": [
    "model.conf_int(alpha=0.05)"
   ]
  },
  {
   "cell_type": "code",
   "execution_count": null,
   "id": "fe34a0d0",
   "metadata": {},
   "outputs": [],
   "source": [
    "sm.qqplot(model.resid, line=\"s\", alpha=0.3);"
   ]
  },
  {
   "cell_type": "code",
   "execution_count": null,
   "id": "ec7bd654",
   "metadata": {},
   "outputs": [],
   "source": [
    "def bootstrap_simple_linear_regression(sample, x_column, y_column, num_resamples):\n",
    "    results = []\n",
    "    for i in range(num_resamples):\n",
    "        this_resample = sample.sample(sample.shape[0], replace=True)\n",
    "        this_model = sm.OLS(endog=this_resample[y_column], exog=sm.add_constant(this_resample[x_column])).fit()\n",
    "        results.append([i + 1, this_model.params[\"const\"], this_model.params[x_column], this_model.rsquared])\n",
    "    \n",
    "    return pd.DataFrame(\n",
    "        data=results, \n",
    "        columns=[\"resample\", \"const\", x_column, \"rsquared\"]\n",
    "    )"
   ]
  },
  {
   "cell_type": "code",
   "execution_count": null,
   "id": "f921c2a4",
   "metadata": {},
   "outputs": [],
   "source": [
    "bootstrap_regression = bootstrap_simple_linear_regression(anime_tv, \"average_episode_duration\", \"scoring\", 10000)"
   ]
  },
  {
   "cell_type": "code",
   "execution_count": null,
   "id": "e479925a",
   "metadata": {},
   "outputs": [],
   "source": [
    "percentile_CI(\n",
    "    bootstrap_dist=bootstrap_regression,\n",
    "    value_column=\"average_episode_duration\",\n",
    "    confidence_level=0.95,\n",
    ")"
   ]
  },
  {
   "cell_type": "code",
   "execution_count": null,
   "id": "270771e4",
   "metadata": {},
   "outputs": [],
   "source": [
    "bias_corrected_CI(\n",
    "    bootstrap_dist=bootstrap_regression,\n",
    "    value_column=\"average_episode_duration\",\n",
    "    confidence_level=0.95,\n",
    "    sample_stat=model.params[\"average_episode_duration\"]\n",
    ")"
   ]
  },
  {
   "cell_type": "code",
   "execution_count": null,
   "id": "bc691713",
   "metadata": {},
   "outputs": [],
   "source": [
    "percentile_CI"
   ]
  },
  {
   "cell_type": "markdown",
   "id": "62b07cb3",
   "metadata": {},
   "source": [
    "# Next talk: algorithms for bootstrapping big data"
   ]
  }
 ],
 "metadata": {
  "kernelspec": {
   "display_name": "Python 3 (ipykernel)",
   "language": "python",
   "name": "python3"
  },
  "language_info": {
   "codemirror_mode": {
    "name": "ipython",
    "version": 3
   },
   "file_extension": ".py",
   "mimetype": "text/x-python",
   "name": "python",
   "nbconvert_exporter": "python",
   "pygments_lexer": "ipython3",
   "version": "3.9.7"
  }
 },
 "nbformat": 4,
 "nbformat_minor": 5
}
